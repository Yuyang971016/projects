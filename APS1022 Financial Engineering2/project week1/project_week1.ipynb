{
 "cells": [
  {
   "cell_type": "code",
   "execution_count": 1,
   "id": "355c41b7",
   "metadata": {},
   "outputs": [],
   "source": [
    "import pandas as pd\n",
    "import numpy as np\n",
    "import matplotlib.pyplot as plt\n",
    "import cplex\n",
    "import cvxopt\n",
    "import cvxpy as cp\n",
    "import cyipopt\n",
    "import warnings\n",
    "warnings.filterwarnings(\"ignore\")"
   ]
  },
  {
   "cell_type": "code",
   "execution_count": 2,
   "id": "42c04079",
   "metadata": {},
   "outputs": [],
   "source": [
    "# load the return data\n",
    "# may need to modify the path to run the code if using absolute path\n",
    "df = pd.read_csv(\"./related_files/combined_adj_prices.csv\")"
   ]
  },
  {
   "cell_type": "markdown",
   "id": "e791a3d4",
   "metadata": {},
   "source": [
    "## calculate necessary parameters"
   ]
  },
  {
   "cell_type": "code",
   "execution_count": 3,
   "id": "9670cfda",
   "metadata": {},
   "outputs": [],
   "source": [
    "# rf rates are calculated as the averaged 10 year treasuary bond rate for 2005 and 2008\n",
    "rf = (4.289+ 4.795 +4.635+3.664)/4/100\n",
    "rf_m = rf/12"
   ]
  },
  {
   "cell_type": "code",
   "execution_count": 4,
   "id": "aca62ebb",
   "metadata": {},
   "outputs": [
    {
     "data": {
      "text/plain": [
       "0.003621458333333333"
      ]
     },
     "execution_count": 4,
     "metadata": {},
     "output_type": "execute_result"
    }
   ],
   "source": [
    "rf_m"
   ]
  },
  {
   "cell_type": "code",
   "execution_count": 5,
   "id": "e8c85c35",
   "metadata": {},
   "outputs": [
    {
     "data": {
      "text/plain": [
       "array([0.00516563, 0.01600749, 0.02350914, 0.02479842, 0.04832883,\n",
       "       0.04331213, 0.08484139, 0.076927  , 0.04500138, 0.06065996,\n",
       "       0.04082718, 0.05717082, 0.06693615, 0.07714401, 0.18017999,\n",
       "       0.01245027, 0.00507202, 0.07840776, 0.04445674, 0.00880369])"
      ]
     },
     "execution_count": 5,
     "metadata": {},
     "output_type": "execute_result"
    }
   ],
   "source": [
    "# mkt cap are all in Billions, take average values of market cap during 2005-2008 for each company\n",
    "mkt_cap = [ 12.14  ,  37.62,  55.25  ,  58.28 , 113.58 , 101.79 ,\n",
    "       199.39 , 180.79 , 105.76  , 142.56 ,  95.95, 134.36 ,\n",
    "       157.31  , 181.30 , 423.45 ,  29.26,  11.92, 184.27  ,\n",
    "       104.48 ,  20.69]\n",
    "mkt_cap = np.array(mkt_cap)\n",
    "w_cap = mkt_cap / sum(mkt_cap)\n",
    "w_cap"
   ]
  },
  {
   "cell_type": "code",
   "execution_count": 6,
   "id": "8a74c14a",
   "metadata": {},
   "outputs": [],
   "source": [
    "df2=df.iloc[:,1:].pct_change().shift(-1)\n",
    "ret_all = df2.iloc[:-1,:]\n",
    "# 2004.12.30 - 2008.9.30 return\n",
    "ret_t = ret_all.iloc[:-2,:]\n",
    "# 2008.10 return\n",
    "ret_oct = ret_all.iloc[-2,:]\n",
    "# 2008.11 return\n",
    "ret_nov = ret_all.iloc[-1,:]"
   ]
  },
  {
   "cell_type": "code",
   "execution_count": 7,
   "id": "ca9fa825",
   "metadata": {
    "scrolled": true
   },
   "outputs": [
    {
     "data": {
      "text/plain": [
       "F      -0.578846\n",
       "CAT    -0.352595\n",
       "DIS    -0.155751\n",
       "MCD    -0.061102\n",
       "KO     -0.166793\n",
       "PEP    -0.200084\n",
       "WMT    -0.068125\n",
       "C      -0.326119\n",
       "WFC    -0.092726\n",
       "JPM    -0.109887\n",
       "AAPL   -0.053405\n",
       "IBM    -0.205113\n",
       "PFE    -0.039588\n",
       "JNJ    -0.114607\n",
       "XOM    -0.045583\n",
       "MRO    -0.270128\n",
       "ED      0.008380\n",
       "T      -0.021047\n",
       "VZ     -0.060453\n",
       "NEM    -0.320434\n",
       "Name: 45, dtype: float64"
      ]
     },
     "execution_count": 7,
     "metadata": {},
     "output_type": "execute_result"
    }
   ],
   "source": [
    "ret_oct"
   ]
  },
  {
   "cell_type": "code",
   "execution_count": 8,
   "id": "c7acd66c",
   "metadata": {
    "scrolled": true
   },
   "outputs": [
    {
     "data": {
      "text/plain": [
       "F       0.228310\n",
       "CAT     0.073036\n",
       "DIS    -0.130838\n",
       "MCD     0.023160\n",
       "KO      0.072822\n",
       "PEP    -0.005438\n",
       "WMT     0.001254\n",
       "C      -0.392674\n",
       "WFC    -0.143245\n",
       "JPM    -0.232485\n",
       "AAPL   -0.138675\n",
       "IBM    -0.117391\n",
       "PFE    -0.055864\n",
       "JNJ    -0.037058\n",
       "XOM     0.087573\n",
       "MRO    -0.092181\n",
       "ED     -0.054539\n",
       "T       0.066866\n",
       "VZ      0.100438\n",
       "NEM     0.277525\n",
       "Name: 46, dtype: float64"
      ]
     },
     "execution_count": 8,
     "metadata": {},
     "output_type": "execute_result"
    }
   ],
   "source": [
    "ret_nov"
   ]
  },
  {
   "cell_type": "markdown",
   "id": "346b46f0",
   "metadata": {},
   "source": [
    "## sample mean"
   ]
  },
  {
   "cell_type": "code",
   "execution_count": 9,
   "id": "41eb9ba0",
   "metadata": {
    "scrolled": true
   },
   "outputs": [
    {
     "data": {
      "text/plain": [
       "{'F': -0.01427607,\n",
       " 'CAT': 0.00808846,\n",
       " 'DIS': 0.00413067,\n",
       " 'MCD': 0.01795522,\n",
       " 'KO': 0.0081466,\n",
       " 'PEP': 0.00927311,\n",
       " 'WMT': 0.00505742,\n",
       " 'C': -0.01194779,\n",
       " 'WFC': 0.00951754,\n",
       " 'JPM': 0.00969113,\n",
       " 'AAPL': 0.03706332,\n",
       " 'IBM': 0.00649203,\n",
       " 'PFE': -0.00322543,\n",
       " 'JNJ': 0.0044066,\n",
       " 'XOM': 0.01257922,\n",
       " 'MRO': 0.02331904,\n",
       " 'ED': 0.00455322,\n",
       " 'T': 0.00853043,\n",
       " 'VZ': 0.00082942,\n",
       " 'NEM': 0.00130584}"
      ]
     },
     "execution_count": 9,
     "metadata": {},
     "output_type": "execute_result"
    }
   ],
   "source": [
    "dict1 = pd.DataFrame(ret_t.mean()).to_dict()[0]\n",
    "dict1 = {key : round(dict1[key], 8) for key in dict1}\n",
    "dict1"
   ]
  },
  {
   "cell_type": "code",
   "execution_count": 10,
   "id": "cf7c7ac0",
   "metadata": {},
   "outputs": [
    {
     "data": {
      "text/plain": [
       "array([-0.01427607,  0.00808846,  0.00413067,  0.01795522,  0.0081466 ,\n",
       "        0.00927311,  0.00505742, -0.01194779,  0.00951754,  0.00969113,\n",
       "        0.03706332,  0.00649203, -0.00322543,  0.0044066 ,  0.01257922,\n",
       "        0.02331904,  0.00455322,  0.00853043,  0.00082942,  0.00130584])"
      ]
     },
     "execution_count": 10,
     "metadata": {},
     "output_type": "execute_result"
    }
   ],
   "source": [
    "# average return for each asset in the sample period\n",
    "# expected market return \n",
    "mu = ret_t.mean().to_numpy()\n",
    "mu"
   ]
  },
  {
   "cell_type": "code",
   "execution_count": 11,
   "id": "68576076",
   "metadata": {},
   "outputs": [
    {
     "data": {
      "text/plain": [
       "(20, 20)"
      ]
     },
     "execution_count": 11,
     "metadata": {},
     "output_type": "execute_result"
    }
   ],
   "source": [
    "# covariance matrix using pandas built in function\n",
    "Q = ret_t.cov()\n",
    "# convert it to ndarray for later calculation\n",
    "Q_matrix = Q.to_numpy()\n",
    "Q_matrix.shape"
   ]
  },
  {
   "cell_type": "markdown",
   "id": "687124e0",
   "metadata": {},
   "source": [
    "## sample variances and covariances"
   ]
  },
  {
   "cell_type": "code",
   "execution_count": 12,
   "id": "9f9cc3ce",
   "metadata": {
    "scrolled": true
   },
   "outputs": [
    {
     "data": {
      "text/html": [
       "<div>\n",
       "<style scoped>\n",
       "    .dataframe tbody tr th:only-of-type {\n",
       "        vertical-align: middle;\n",
       "    }\n",
       "\n",
       "    .dataframe tbody tr th {\n",
       "        vertical-align: top;\n",
       "    }\n",
       "\n",
       "    .dataframe thead th {\n",
       "        text-align: right;\n",
       "    }\n",
       "</style>\n",
       "<table border=\"1\" class=\"dataframe\">\n",
       "  <thead>\n",
       "    <tr style=\"text-align: right;\">\n",
       "      <th></th>\n",
       "      <th>F</th>\n",
       "      <th>CAT</th>\n",
       "      <th>DIS</th>\n",
       "      <th>MCD</th>\n",
       "      <th>KO</th>\n",
       "      <th>PEP</th>\n",
       "      <th>WMT</th>\n",
       "      <th>C</th>\n",
       "      <th>WFC</th>\n",
       "      <th>JPM</th>\n",
       "      <th>AAPL</th>\n",
       "      <th>IBM</th>\n",
       "      <th>PFE</th>\n",
       "      <th>JNJ</th>\n",
       "      <th>XOM</th>\n",
       "      <th>MRO</th>\n",
       "      <th>ED</th>\n",
       "      <th>T</th>\n",
       "      <th>VZ</th>\n",
       "      <th>NEM</th>\n",
       "    </tr>\n",
       "  </thead>\n",
       "  <tbody>\n",
       "    <tr>\n",
       "      <th>F</th>\n",
       "      <td>0.014721</td>\n",
       "      <td>0.001548</td>\n",
       "      <td>0.001057</td>\n",
       "      <td>0.002166</td>\n",
       "      <td>7.086676e-04</td>\n",
       "      <td>-0.000391</td>\n",
       "      <td>1.724195e-03</td>\n",
       "      <td>0.004618</td>\n",
       "      <td>0.001966</td>\n",
       "      <td>0.003574</td>\n",
       "      <td>0.001562</td>\n",
       "      <td>0.002104</td>\n",
       "      <td>0.001282</td>\n",
       "      <td>0.000321</td>\n",
       "      <td>0.002238</td>\n",
       "      <td>0.000780</td>\n",
       "      <td>0.001087</td>\n",
       "      <td>0.001245</td>\n",
       "      <td>0.001768</td>\n",
       "      <td>-0.000203</td>\n",
       "    </tr>\n",
       "    <tr>\n",
       "      <th>CAT</th>\n",
       "      <td>0.001548</td>\n",
       "      <td>0.004283</td>\n",
       "      <td>0.000862</td>\n",
       "      <td>0.001250</td>\n",
       "      <td>4.969191e-04</td>\n",
       "      <td>-0.000104</td>\n",
       "      <td>-1.611924e-04</td>\n",
       "      <td>0.000337</td>\n",
       "      <td>-0.000827</td>\n",
       "      <td>-0.000236</td>\n",
       "      <td>0.003675</td>\n",
       "      <td>0.000983</td>\n",
       "      <td>0.001181</td>\n",
       "      <td>-0.000261</td>\n",
       "      <td>0.001743</td>\n",
       "      <td>0.002795</td>\n",
       "      <td>0.000097</td>\n",
       "      <td>0.001913</td>\n",
       "      <td>0.001639</td>\n",
       "      <td>0.001442</td>\n",
       "    </tr>\n",
       "    <tr>\n",
       "      <th>DIS</th>\n",
       "      <td>0.001057</td>\n",
       "      <td>0.000862</td>\n",
       "      <td>0.001953</td>\n",
       "      <td>0.000913</td>\n",
       "      <td>5.041607e-04</td>\n",
       "      <td>0.000338</td>\n",
       "      <td>1.726807e-04</td>\n",
       "      <td>0.000499</td>\n",
       "      <td>-0.000515</td>\n",
       "      <td>-0.000423</td>\n",
       "      <td>0.001410</td>\n",
       "      <td>0.000938</td>\n",
       "      <td>0.000169</td>\n",
       "      <td>0.000273</td>\n",
       "      <td>0.000244</td>\n",
       "      <td>0.000657</td>\n",
       "      <td>0.000264</td>\n",
       "      <td>0.000792</td>\n",
       "      <td>0.000725</td>\n",
       "      <td>-0.001018</td>\n",
       "    </tr>\n",
       "    <tr>\n",
       "      <th>MCD</th>\n",
       "      <td>0.002166</td>\n",
       "      <td>0.001250</td>\n",
       "      <td>0.000913</td>\n",
       "      <td>0.002626</td>\n",
       "      <td>1.013898e-03</td>\n",
       "      <td>0.000560</td>\n",
       "      <td>1.547052e-04</td>\n",
       "      <td>0.001143</td>\n",
       "      <td>0.000282</td>\n",
       "      <td>0.000909</td>\n",
       "      <td>0.004075</td>\n",
       "      <td>0.001398</td>\n",
       "      <td>0.000633</td>\n",
       "      <td>0.000538</td>\n",
       "      <td>0.001275</td>\n",
       "      <td>0.001455</td>\n",
       "      <td>0.000758</td>\n",
       "      <td>0.001099</td>\n",
       "      <td>0.001138</td>\n",
       "      <td>0.000067</td>\n",
       "    </tr>\n",
       "    <tr>\n",
       "      <th>KO</th>\n",
       "      <td>0.000709</td>\n",
       "      <td>0.000497</td>\n",
       "      <td>0.000504</td>\n",
       "      <td>0.001014</td>\n",
       "      <td>1.234341e-03</td>\n",
       "      <td>0.000708</td>\n",
       "      <td>6.964748e-07</td>\n",
       "      <td>0.000575</td>\n",
       "      <td>0.000264</td>\n",
       "      <td>0.000730</td>\n",
       "      <td>0.001176</td>\n",
       "      <td>0.000475</td>\n",
       "      <td>0.000368</td>\n",
       "      <td>0.000519</td>\n",
       "      <td>0.000583</td>\n",
       "      <td>0.000352</td>\n",
       "      <td>0.000434</td>\n",
       "      <td>0.000788</td>\n",
       "      <td>0.000624</td>\n",
       "      <td>-0.000654</td>\n",
       "    </tr>\n",
       "    <tr>\n",
       "      <th>PEP</th>\n",
       "      <td>-0.000391</td>\n",
       "      <td>-0.000104</td>\n",
       "      <td>0.000338</td>\n",
       "      <td>0.000560</td>\n",
       "      <td>7.084148e-04</td>\n",
       "      <td>0.001304</td>\n",
       "      <td>-1.565383e-04</td>\n",
       "      <td>0.000575</td>\n",
       "      <td>0.000483</td>\n",
       "      <td>0.000724</td>\n",
       "      <td>0.000849</td>\n",
       "      <td>0.000035</td>\n",
       "      <td>0.000283</td>\n",
       "      <td>0.000677</td>\n",
       "      <td>-0.000149</td>\n",
       "      <td>-0.000256</td>\n",
       "      <td>0.000508</td>\n",
       "      <td>0.000375</td>\n",
       "      <td>0.000397</td>\n",
       "      <td>-0.001172</td>\n",
       "    </tr>\n",
       "    <tr>\n",
       "      <th>WMT</th>\n",
       "      <td>0.001724</td>\n",
       "      <td>-0.000161</td>\n",
       "      <td>0.000173</td>\n",
       "      <td>0.000155</td>\n",
       "      <td>6.964748e-07</td>\n",
       "      <td>-0.000157</td>\n",
       "      <td>1.959701e-03</td>\n",
       "      <td>0.000282</td>\n",
       "      <td>0.000560</td>\n",
       "      <td>0.000985</td>\n",
       "      <td>-0.000582</td>\n",
       "      <td>0.000463</td>\n",
       "      <td>-0.000710</td>\n",
       "      <td>0.000232</td>\n",
       "      <td>-0.000838</td>\n",
       "      <td>-0.001979</td>\n",
       "      <td>-0.000210</td>\n",
       "      <td>0.000032</td>\n",
       "      <td>0.000078</td>\n",
       "      <td>-0.001251</td>\n",
       "    </tr>\n",
       "    <tr>\n",
       "      <th>C</th>\n",
       "      <td>0.004618</td>\n",
       "      <td>0.000337</td>\n",
       "      <td>0.000499</td>\n",
       "      <td>0.001143</td>\n",
       "      <td>5.748905e-04</td>\n",
       "      <td>0.000575</td>\n",
       "      <td>2.816594e-04</td>\n",
       "      <td>0.006352</td>\n",
       "      <td>0.003721</td>\n",
       "      <td>0.004288</td>\n",
       "      <td>0.000854</td>\n",
       "      <td>0.000991</td>\n",
       "      <td>0.001176</td>\n",
       "      <td>0.000687</td>\n",
       "      <td>0.000538</td>\n",
       "      <td>-0.000697</td>\n",
       "      <td>0.000907</td>\n",
       "      <td>0.001115</td>\n",
       "      <td>0.001191</td>\n",
       "      <td>-0.001138</td>\n",
       "    </tr>\n",
       "    <tr>\n",
       "      <th>WFC</th>\n",
       "      <td>0.001966</td>\n",
       "      <td>-0.000827</td>\n",
       "      <td>-0.000515</td>\n",
       "      <td>0.000282</td>\n",
       "      <td>2.643517e-04</td>\n",
       "      <td>0.000483</td>\n",
       "      <td>5.599555e-04</td>\n",
       "      <td>0.003721</td>\n",
       "      <td>0.005304</td>\n",
       "      <td>0.004728</td>\n",
       "      <td>-0.002496</td>\n",
       "      <td>0.000556</td>\n",
       "      <td>0.001344</td>\n",
       "      <td>0.000434</td>\n",
       "      <td>-0.001066</td>\n",
       "      <td>-0.002649</td>\n",
       "      <td>0.000527</td>\n",
       "      <td>-0.000308</td>\n",
       "      <td>-0.000262</td>\n",
       "      <td>-0.001545</td>\n",
       "    </tr>\n",
       "    <tr>\n",
       "      <th>JPM</th>\n",
       "      <td>0.003574</td>\n",
       "      <td>-0.000236</td>\n",
       "      <td>-0.000423</td>\n",
       "      <td>0.000909</td>\n",
       "      <td>7.300412e-04</td>\n",
       "      <td>0.000724</td>\n",
       "      <td>9.854998e-04</td>\n",
       "      <td>0.004288</td>\n",
       "      <td>0.004728</td>\n",
       "      <td>0.005800</td>\n",
       "      <td>-0.000598</td>\n",
       "      <td>0.000676</td>\n",
       "      <td>0.001252</td>\n",
       "      <td>0.000640</td>\n",
       "      <td>-0.000544</td>\n",
       "      <td>-0.002404</td>\n",
       "      <td>0.000610</td>\n",
       "      <td>0.000583</td>\n",
       "      <td>0.000478</td>\n",
       "      <td>-0.001168</td>\n",
       "    </tr>\n",
       "    <tr>\n",
       "      <th>AAPL</th>\n",
       "      <td>0.001562</td>\n",
       "      <td>0.003675</td>\n",
       "      <td>0.001410</td>\n",
       "      <td>0.004075</td>\n",
       "      <td>1.176371e-03</td>\n",
       "      <td>0.000849</td>\n",
       "      <td>-5.819148e-04</td>\n",
       "      <td>0.000854</td>\n",
       "      <td>-0.002496</td>\n",
       "      <td>-0.000598</td>\n",
       "      <td>0.016627</td>\n",
       "      <td>0.002268</td>\n",
       "      <td>0.000831</td>\n",
       "      <td>0.000626</td>\n",
       "      <td>0.003989</td>\n",
       "      <td>0.005465</td>\n",
       "      <td>0.001147</td>\n",
       "      <td>0.003490</td>\n",
       "      <td>0.002867</td>\n",
       "      <td>0.002568</td>\n",
       "    </tr>\n",
       "    <tr>\n",
       "      <th>IBM</th>\n",
       "      <td>0.002104</td>\n",
       "      <td>0.000983</td>\n",
       "      <td>0.000938</td>\n",
       "      <td>0.001398</td>\n",
       "      <td>4.750643e-04</td>\n",
       "      <td>0.000035</td>\n",
       "      <td>4.633237e-04</td>\n",
       "      <td>0.000991</td>\n",
       "      <td>0.000556</td>\n",
       "      <td>0.000676</td>\n",
       "      <td>0.002268</td>\n",
       "      <td>0.003253</td>\n",
       "      <td>-0.000132</td>\n",
       "      <td>0.000353</td>\n",
       "      <td>0.000659</td>\n",
       "      <td>0.000863</td>\n",
       "      <td>-0.000026</td>\n",
       "      <td>0.001012</td>\n",
       "      <td>0.000919</td>\n",
       "      <td>0.000087</td>\n",
       "    </tr>\n",
       "    <tr>\n",
       "      <th>PFE</th>\n",
       "      <td>0.001282</td>\n",
       "      <td>0.001181</td>\n",
       "      <td>0.000169</td>\n",
       "      <td>0.000633</td>\n",
       "      <td>3.679963e-04</td>\n",
       "      <td>0.000283</td>\n",
       "      <td>-7.104406e-04</td>\n",
       "      <td>0.001176</td>\n",
       "      <td>0.001344</td>\n",
       "      <td>0.001252</td>\n",
       "      <td>0.000831</td>\n",
       "      <td>-0.000132</td>\n",
       "      <td>0.003286</td>\n",
       "      <td>0.000234</td>\n",
       "      <td>0.001042</td>\n",
       "      <td>0.001469</td>\n",
       "      <td>0.000661</td>\n",
       "      <td>0.000855</td>\n",
       "      <td>0.000886</td>\n",
       "      <td>0.000911</td>\n",
       "    </tr>\n",
       "    <tr>\n",
       "      <th>JNJ</th>\n",
       "      <td>0.000321</td>\n",
       "      <td>-0.000261</td>\n",
       "      <td>0.000273</td>\n",
       "      <td>0.000538</td>\n",
       "      <td>5.186153e-04</td>\n",
       "      <td>0.000677</td>\n",
       "      <td>2.319632e-04</td>\n",
       "      <td>0.000687</td>\n",
       "      <td>0.000434</td>\n",
       "      <td>0.000640</td>\n",
       "      <td>0.000626</td>\n",
       "      <td>0.000353</td>\n",
       "      <td>0.000234</td>\n",
       "      <td>0.000979</td>\n",
       "      <td>0.000139</td>\n",
       "      <td>-0.000403</td>\n",
       "      <td>0.000322</td>\n",
       "      <td>0.000307</td>\n",
       "      <td>0.000330</td>\n",
       "      <td>-0.000860</td>\n",
       "    </tr>\n",
       "    <tr>\n",
       "      <th>XOM</th>\n",
       "      <td>0.002238</td>\n",
       "      <td>0.001743</td>\n",
       "      <td>0.000244</td>\n",
       "      <td>0.001275</td>\n",
       "      <td>5.834061e-04</td>\n",
       "      <td>-0.000149</td>\n",
       "      <td>-8.377315e-04</td>\n",
       "      <td>0.000538</td>\n",
       "      <td>-0.001066</td>\n",
       "      <td>-0.000544</td>\n",
       "      <td>0.003989</td>\n",
       "      <td>0.000659</td>\n",
       "      <td>0.001042</td>\n",
       "      <td>0.000139</td>\n",
       "      <td>0.003717</td>\n",
       "      <td>0.004230</td>\n",
       "      <td>0.000540</td>\n",
       "      <td>0.001073</td>\n",
       "      <td>0.001062</td>\n",
       "      <td>0.001898</td>\n",
       "    </tr>\n",
       "    <tr>\n",
       "      <th>MRO</th>\n",
       "      <td>0.000780</td>\n",
       "      <td>0.002795</td>\n",
       "      <td>0.000657</td>\n",
       "      <td>0.001455</td>\n",
       "      <td>3.519678e-04</td>\n",
       "      <td>-0.000256</td>\n",
       "      <td>-1.978514e-03</td>\n",
       "      <td>-0.000697</td>\n",
       "      <td>-0.002649</td>\n",
       "      <td>-0.002404</td>\n",
       "      <td>0.005465</td>\n",
       "      <td>0.000863</td>\n",
       "      <td>0.001469</td>\n",
       "      <td>-0.000403</td>\n",
       "      <td>0.004230</td>\n",
       "      <td>0.009963</td>\n",
       "      <td>0.000757</td>\n",
       "      <td>0.001475</td>\n",
       "      <td>0.001551</td>\n",
       "      <td>0.003391</td>\n",
       "    </tr>\n",
       "    <tr>\n",
       "      <th>ED</th>\n",
       "      <td>0.001087</td>\n",
       "      <td>0.000097</td>\n",
       "      <td>0.000264</td>\n",
       "      <td>0.000758</td>\n",
       "      <td>4.336799e-04</td>\n",
       "      <td>0.000508</td>\n",
       "      <td>-2.099470e-04</td>\n",
       "      <td>0.000907</td>\n",
       "      <td>0.000527</td>\n",
       "      <td>0.000610</td>\n",
       "      <td>0.001147</td>\n",
       "      <td>-0.000026</td>\n",
       "      <td>0.000661</td>\n",
       "      <td>0.000322</td>\n",
       "      <td>0.000540</td>\n",
       "      <td>0.000757</td>\n",
       "      <td>0.001452</td>\n",
       "      <td>0.000499</td>\n",
       "      <td>0.000310</td>\n",
       "      <td>-0.000200</td>\n",
       "    </tr>\n",
       "    <tr>\n",
       "      <th>T</th>\n",
       "      <td>0.001245</td>\n",
       "      <td>0.001913</td>\n",
       "      <td>0.000792</td>\n",
       "      <td>0.001099</td>\n",
       "      <td>7.882934e-04</td>\n",
       "      <td>0.000375</td>\n",
       "      <td>3.215112e-05</td>\n",
       "      <td>0.001115</td>\n",
       "      <td>-0.000308</td>\n",
       "      <td>0.000583</td>\n",
       "      <td>0.003490</td>\n",
       "      <td>0.001012</td>\n",
       "      <td>0.000855</td>\n",
       "      <td>0.000307</td>\n",
       "      <td>0.001073</td>\n",
       "      <td>0.001475</td>\n",
       "      <td>0.000499</td>\n",
       "      <td>0.003398</td>\n",
       "      <td>0.002202</td>\n",
       "      <td>-0.000354</td>\n",
       "    </tr>\n",
       "    <tr>\n",
       "      <th>VZ</th>\n",
       "      <td>0.001768</td>\n",
       "      <td>0.001639</td>\n",
       "      <td>0.000725</td>\n",
       "      <td>0.001138</td>\n",
       "      <td>6.244802e-04</td>\n",
       "      <td>0.000397</td>\n",
       "      <td>7.828071e-05</td>\n",
       "      <td>0.001191</td>\n",
       "      <td>-0.000262</td>\n",
       "      <td>0.000478</td>\n",
       "      <td>0.002867</td>\n",
       "      <td>0.000919</td>\n",
       "      <td>0.000886</td>\n",
       "      <td>0.000330</td>\n",
       "      <td>0.001062</td>\n",
       "      <td>0.001551</td>\n",
       "      <td>0.000310</td>\n",
       "      <td>0.002202</td>\n",
       "      <td>0.002751</td>\n",
       "      <td>-0.000063</td>\n",
       "    </tr>\n",
       "    <tr>\n",
       "      <th>NEM</th>\n",
       "      <td>-0.000203</td>\n",
       "      <td>0.001442</td>\n",
       "      <td>-0.001018</td>\n",
       "      <td>0.000067</td>\n",
       "      <td>-6.541581e-04</td>\n",
       "      <td>-0.001172</td>\n",
       "      <td>-1.250599e-03</td>\n",
       "      <td>-0.001138</td>\n",
       "      <td>-0.001545</td>\n",
       "      <td>-0.001168</td>\n",
       "      <td>0.002568</td>\n",
       "      <td>0.000087</td>\n",
       "      <td>0.000911</td>\n",
       "      <td>-0.000860</td>\n",
       "      <td>0.001898</td>\n",
       "      <td>0.003391</td>\n",
       "      <td>-0.000200</td>\n",
       "      <td>-0.000354</td>\n",
       "      <td>-0.000063</td>\n",
       "      <td>0.007417</td>\n",
       "    </tr>\n",
       "  </tbody>\n",
       "</table>\n",
       "</div>"
      ],
      "text/plain": [
       "             F       CAT       DIS       MCD            KO       PEP  \\\n",
       "F     0.014721  0.001548  0.001057  0.002166  7.086676e-04 -0.000391   \n",
       "CAT   0.001548  0.004283  0.000862  0.001250  4.969191e-04 -0.000104   \n",
       "DIS   0.001057  0.000862  0.001953  0.000913  5.041607e-04  0.000338   \n",
       "MCD   0.002166  0.001250  0.000913  0.002626  1.013898e-03  0.000560   \n",
       "KO    0.000709  0.000497  0.000504  0.001014  1.234341e-03  0.000708   \n",
       "PEP  -0.000391 -0.000104  0.000338  0.000560  7.084148e-04  0.001304   \n",
       "WMT   0.001724 -0.000161  0.000173  0.000155  6.964748e-07 -0.000157   \n",
       "C     0.004618  0.000337  0.000499  0.001143  5.748905e-04  0.000575   \n",
       "WFC   0.001966 -0.000827 -0.000515  0.000282  2.643517e-04  0.000483   \n",
       "JPM   0.003574 -0.000236 -0.000423  0.000909  7.300412e-04  0.000724   \n",
       "AAPL  0.001562  0.003675  0.001410  0.004075  1.176371e-03  0.000849   \n",
       "IBM   0.002104  0.000983  0.000938  0.001398  4.750643e-04  0.000035   \n",
       "PFE   0.001282  0.001181  0.000169  0.000633  3.679963e-04  0.000283   \n",
       "JNJ   0.000321 -0.000261  0.000273  0.000538  5.186153e-04  0.000677   \n",
       "XOM   0.002238  0.001743  0.000244  0.001275  5.834061e-04 -0.000149   \n",
       "MRO   0.000780  0.002795  0.000657  0.001455  3.519678e-04 -0.000256   \n",
       "ED    0.001087  0.000097  0.000264  0.000758  4.336799e-04  0.000508   \n",
       "T     0.001245  0.001913  0.000792  0.001099  7.882934e-04  0.000375   \n",
       "VZ    0.001768  0.001639  0.000725  0.001138  6.244802e-04  0.000397   \n",
       "NEM  -0.000203  0.001442 -0.001018  0.000067 -6.541581e-04 -0.001172   \n",
       "\n",
       "               WMT         C       WFC       JPM      AAPL       IBM  \\\n",
       "F     1.724195e-03  0.004618  0.001966  0.003574  0.001562  0.002104   \n",
       "CAT  -1.611924e-04  0.000337 -0.000827 -0.000236  0.003675  0.000983   \n",
       "DIS   1.726807e-04  0.000499 -0.000515 -0.000423  0.001410  0.000938   \n",
       "MCD   1.547052e-04  0.001143  0.000282  0.000909  0.004075  0.001398   \n",
       "KO    6.964748e-07  0.000575  0.000264  0.000730  0.001176  0.000475   \n",
       "PEP  -1.565383e-04  0.000575  0.000483  0.000724  0.000849  0.000035   \n",
       "WMT   1.959701e-03  0.000282  0.000560  0.000985 -0.000582  0.000463   \n",
       "C     2.816594e-04  0.006352  0.003721  0.004288  0.000854  0.000991   \n",
       "WFC   5.599555e-04  0.003721  0.005304  0.004728 -0.002496  0.000556   \n",
       "JPM   9.854998e-04  0.004288  0.004728  0.005800 -0.000598  0.000676   \n",
       "AAPL -5.819148e-04  0.000854 -0.002496 -0.000598  0.016627  0.002268   \n",
       "IBM   4.633237e-04  0.000991  0.000556  0.000676  0.002268  0.003253   \n",
       "PFE  -7.104406e-04  0.001176  0.001344  0.001252  0.000831 -0.000132   \n",
       "JNJ   2.319632e-04  0.000687  0.000434  0.000640  0.000626  0.000353   \n",
       "XOM  -8.377315e-04  0.000538 -0.001066 -0.000544  0.003989  0.000659   \n",
       "MRO  -1.978514e-03 -0.000697 -0.002649 -0.002404  0.005465  0.000863   \n",
       "ED   -2.099470e-04  0.000907  0.000527  0.000610  0.001147 -0.000026   \n",
       "T     3.215112e-05  0.001115 -0.000308  0.000583  0.003490  0.001012   \n",
       "VZ    7.828071e-05  0.001191 -0.000262  0.000478  0.002867  0.000919   \n",
       "NEM  -1.250599e-03 -0.001138 -0.001545 -0.001168  0.002568  0.000087   \n",
       "\n",
       "           PFE       JNJ       XOM       MRO        ED         T        VZ  \\\n",
       "F     0.001282  0.000321  0.002238  0.000780  0.001087  0.001245  0.001768   \n",
       "CAT   0.001181 -0.000261  0.001743  0.002795  0.000097  0.001913  0.001639   \n",
       "DIS   0.000169  0.000273  0.000244  0.000657  0.000264  0.000792  0.000725   \n",
       "MCD   0.000633  0.000538  0.001275  0.001455  0.000758  0.001099  0.001138   \n",
       "KO    0.000368  0.000519  0.000583  0.000352  0.000434  0.000788  0.000624   \n",
       "PEP   0.000283  0.000677 -0.000149 -0.000256  0.000508  0.000375  0.000397   \n",
       "WMT  -0.000710  0.000232 -0.000838 -0.001979 -0.000210  0.000032  0.000078   \n",
       "C     0.001176  0.000687  0.000538 -0.000697  0.000907  0.001115  0.001191   \n",
       "WFC   0.001344  0.000434 -0.001066 -0.002649  0.000527 -0.000308 -0.000262   \n",
       "JPM   0.001252  0.000640 -0.000544 -0.002404  0.000610  0.000583  0.000478   \n",
       "AAPL  0.000831  0.000626  0.003989  0.005465  0.001147  0.003490  0.002867   \n",
       "IBM  -0.000132  0.000353  0.000659  0.000863 -0.000026  0.001012  0.000919   \n",
       "PFE   0.003286  0.000234  0.001042  0.001469  0.000661  0.000855  0.000886   \n",
       "JNJ   0.000234  0.000979  0.000139 -0.000403  0.000322  0.000307  0.000330   \n",
       "XOM   0.001042  0.000139  0.003717  0.004230  0.000540  0.001073  0.001062   \n",
       "MRO   0.001469 -0.000403  0.004230  0.009963  0.000757  0.001475  0.001551   \n",
       "ED    0.000661  0.000322  0.000540  0.000757  0.001452  0.000499  0.000310   \n",
       "T     0.000855  0.000307  0.001073  0.001475  0.000499  0.003398  0.002202   \n",
       "VZ    0.000886  0.000330  0.001062  0.001551  0.000310  0.002202  0.002751   \n",
       "NEM   0.000911 -0.000860  0.001898  0.003391 -0.000200 -0.000354 -0.000063   \n",
       "\n",
       "           NEM  \n",
       "F    -0.000203  \n",
       "CAT   0.001442  \n",
       "DIS  -0.001018  \n",
       "MCD   0.000067  \n",
       "KO   -0.000654  \n",
       "PEP  -0.001172  \n",
       "WMT  -0.001251  \n",
       "C    -0.001138  \n",
       "WFC  -0.001545  \n",
       "JPM  -0.001168  \n",
       "AAPL  0.002568  \n",
       "IBM   0.000087  \n",
       "PFE   0.000911  \n",
       "JNJ  -0.000860  \n",
       "XOM   0.001898  \n",
       "MRO   0.003391  \n",
       "ED   -0.000200  \n",
       "T    -0.000354  \n",
       "VZ   -0.000063  \n",
       "NEM   0.007417  "
      ]
     },
     "execution_count": 12,
     "metadata": {},
     "output_type": "execute_result"
    }
   ],
   "source": [
    "Q"
   ]
  },
  {
   "cell_type": "markdown",
   "id": "e53712d1",
   "metadata": {},
   "source": [
    "## estimating lambda"
   ]
  },
  {
   "cell_type": "code",
   "execution_count": 13,
   "id": "ec843590",
   "metadata": {},
   "outputs": [
    {
     "data": {
      "text/plain": [
       "3.9773023026580177"
      ]
     },
     "execution_count": 13,
     "metadata": {},
     "output_type": "execute_result"
    }
   ],
   "source": [
    "ret_cap = mu.T@w_cap\n",
    "# variance = x_bar.T@Q@x_bar\n",
    "var_cap = w_cap.T @ Q @ w_cap \n",
    "\n",
    "# Calculate Lambda based on Market Portfolio\n",
    "lambda_value = (ret_cap - rf_m) / var_cap\n",
    "# the lambda value shows that we have low risk aversion coefficient.\n",
    "# The model may give extreme numbers since we are less risk averse.\n",
    "lambda_value"
   ]
  },
  {
   "cell_type": "markdown",
   "id": "92ce05fe",
   "metadata": {},
   "source": [
    "# 1. Mean-Variance Optimization"
   ]
  },
  {
   "cell_type": "code",
   "execution_count": 14,
   "id": "ba0d05cb",
   "metadata": {},
   "outputs": [
    {
     "data": {
      "text/plain": [
       "array([-0.05592512, -0.07373365,  0.66368141,  0.92147815, -0.82213048,\n",
       "        0.68843686,  0.08473155, -1.30924267,  1.69542929,  0.29897348,\n",
       "        0.1713558 , -0.8312176 , -1.17094079, -0.04225564,  0.6556496 ,\n",
       "        0.44996656, -0.68655968,  0.76308856, -0.42713812,  0.02635249])"
      ]
     },
     "execution_count": 14,
     "metadata": {},
     "output_type": "execute_result"
    }
   ],
   "source": [
    "# we need a special place holder for weights in cvxpy.\n",
    "# we can also add upper and lower bonds to prevent too much risky short selling\n",
    "x_mvo = cp.Variable(20)\n",
    "\n",
    "constraints = [sum(x_mvo) == 1]\n",
    "# solve the mvo using cplex\n",
    "p1 = cp.Problem(cp.Maximize(mu.T @ x_mvo - lambda_value * cp.quad_form(x_mvo, Q_matrix)),constraints)\n",
    "p1.solve(solver=cp.CVXOPT, verbose=False)\n",
    "\n",
    "#print(p1.status)\n",
    "#print(p1.value)\n",
    "x_mvo.value"
   ]
  },
  {
   "cell_type": "markdown",
   "id": "1d08dbb4",
   "metadata": {},
   "source": [
    "## general statistics(training set)"
   ]
  },
  {
   "cell_type": "code",
   "execution_count": 15,
   "id": "a09d4f1c",
   "metadata": {},
   "outputs": [],
   "source": [
    "w_mvo = x_mvo.value\n",
    "ret_mvo = mu.T@w_mvo\n",
    "var_mvo = w_mvo.T@Q@w_mvo\n",
    "sd_mvo = np.sqrt(var_mvo)\n",
    "sharpe_mvo = (ret_mvo - rf_m) / sd_mvo"
   ]
  },
  {
   "cell_type": "code",
   "execution_count": 16,
   "id": "b5387949",
   "metadata": {},
   "outputs": [
    {
     "name": "stdout",
     "output_type": "stream",
     "text": [
      "MVO result:\n",
      "MVO Portfolio return = 0.080629\n",
      "MVO Portfolio variance = 0.009606\n",
      "MVO Standard deviation = 0.098012\n",
      "MVO Sharpe ratio = 0.785700\n"
     ]
    }
   ],
   "source": [
    "print(\"MVO result:\")\n",
    "print(f\"MVO Portfolio return = {ret_mvo:.6f}\")\n",
    "print(f\"MVO Portfolio variance = {var_mvo:.6f}\")\n",
    "print(f\"MVO Standard deviation = {sd_mvo:.6f}\")\n",
    "print(f\"MVO Sharpe ratio = {sharpe_mvo:.6f}\")"
   ]
  },
  {
   "cell_type": "code",
   "execution_count": null,
   "id": "a42c35f6",
   "metadata": {},
   "outputs": [],
   "source": []
  },
  {
   "cell_type": "markdown",
   "id": "66b24ee9",
   "metadata": {},
   "source": [
    "# 2.Robust MVO"
   ]
  },
  {
   "cell_type": "code",
   "execution_count": 17,
   "id": "5e7d89de",
   "metadata": {},
   "outputs": [],
   "source": [
    "# calculate theta half/estimation of standard error\n",
    "prices = df.values[:,1:]\n",
    "se = np.sqrt(np.diag(np.diag(Q))/prices.shape[0])\n",
    "\n",
    "# the corresponding value for confidence level 90%, 95%\n",
    "cl_90, cl_95 = 1.645, 1.96\n",
    "delt_90, delt_95 = cl_90*se, cl_95*se"
   ]
  },
  {
   "cell_type": "markdown",
   "id": "12a360b1",
   "metadata": {},
   "source": [
    "## 90% confodence level"
   ]
  },
  {
   "cell_type": "code",
   "execution_count": 18,
   "id": "760e3134",
   "metadata": {},
   "outputs": [
    {
     "data": {
      "text/plain": [
       "array([-0.23179949, -0.12232132,  0.69761574,  1.52635872, -1.23563524,\n",
       "        1.07245539,  0.28226939, -1.46193299,  1.59990053,  0.78742621,\n",
       "        0.18295086, -0.98521975, -1.43010835, -0.36627645,  0.90889605,\n",
       "        0.68120984, -0.9646886 ,  1.00487258, -0.86030527, -0.08566783])"
      ]
     },
     "execution_count": 18,
     "metadata": {},
     "output_type": "execute_result"
    }
   ],
   "source": [
    "x_robust_90 = cp.Variable(20)\n",
    "target_ret = cp.Parameter()\n",
    "target_ret.value = ret_mvo\n",
    "constraints2 = [mu.T@x_robust_90 - delt_90.T@cp.abs(x_robust_90) >= target_ret, sum(x_robust_90) == 1]\n",
    "\n",
    "p2 = cp.Problem(cp.Maximize(mu.T @ x_robust_90 - lambda_value * cp.quad_form(x_robust_90, Q)),constraints2)\n",
    "\n",
    "p2.solve(solver=cp.CPLEX, verbose=False)\n",
    "\n",
    "#print(p2.status)\n",
    "#print(p2.value)\n",
    "x_robust_90.value\n"
   ]
  },
  {
   "cell_type": "markdown",
   "id": "8e442d13",
   "metadata": {},
   "source": [
    "## general statistics"
   ]
  },
  {
   "cell_type": "code",
   "execution_count": 19,
   "id": "bc3b5331",
   "metadata": {},
   "outputs": [],
   "source": [
    "w_robust_90 = x_robust_90.value\n",
    "ret_robust_90 = mu.T@w_robust_90\n",
    "var_robust_90 = w_robust_90.T@Q@w_robust_90\n",
    "sd_robust_90 = np.sqrt(var_robust_90)\n",
    "sharpe_robust_90 = (ret_robust_90 - rf_m) / sd_robust_90"
   ]
  },
  {
   "cell_type": "code",
   "execution_count": 20,
   "id": "7a9dd8c6",
   "metadata": {},
   "outputs": [
    {
     "name": "stdout",
     "output_type": "stream",
     "text": [
      "Robust MVO with 90% CL result:\n",
      "Robust MVO with 90% CL Portfolio return = 0.108295\n",
      "Robust MVO with 90% CL Portfolio variance = 0.018436\n",
      "Robust MVO with 90% CL Standard deviation = 0.135778\n",
      "Robust MVO with 90% CL Sharpe ratio = 0.770914\n"
     ]
    }
   ],
   "source": [
    "print(\"Robust MVO with 90% CL result:\")\n",
    "print(f\"Robust MVO with 90% CL Portfolio return = {ret_robust_90:.6f}\")\n",
    "print(f\"Robust MVO with 90% CL Portfolio variance = {var_robust_90:.6f}\")\n",
    "print(f\"Robust MVO with 90% CL Standard deviation = {sd_robust_90:.6f}\")\n",
    "print(f\"Robust MVO with 90% CL Sharpe ratio = {sharpe_robust_90:.6f}\")"
   ]
  },
  {
   "cell_type": "markdown",
   "id": "06724f4e",
   "metadata": {},
   "source": [
    "## 95% confidence level"
   ]
  },
  {
   "cell_type": "code",
   "execution_count": 21,
   "id": "1ad9667d",
   "metadata": {},
   "outputs": [
    {
     "data": {
      "text/plain": [
       "array([-0.29642122, -0.13657203,  0.62919789,  1.6654142 , -1.27092773,\n",
       "        1.18400396,  0.40290208, -1.33157785,  1.45724334,  0.84521009,\n",
       "        0.17212527, -0.97541458, -1.41413055, -0.50356635,  0.93542646,\n",
       "        0.7303814 , -1.02350761,  1.03545698, -0.99437787, -0.11086588])"
      ]
     },
     "execution_count": 21,
     "metadata": {},
     "output_type": "execute_result"
    }
   ],
   "source": [
    "x_robust_95 = cp.Variable(20)\n",
    "constraints2 = [mu.T@x_robust_95 - delt_95.T@cp.abs(x_robust_95) >= ret_mvo, sum(x_robust_95) == 1]\n",
    "p2 = cp.Problem(cp.Maximize(mu.T @ x_robust_95 - lambda_value * cp.quad_form(x_robust_95, Q)),constraints2)\n",
    "p2.solve(solver=cp.CPLEX, verbose=False)\n",
    "\n",
    "#print(p2.status)\n",
    "#print(p2.value)\n",
    "x_robust_95.value\n"
   ]
  },
  {
   "cell_type": "markdown",
   "id": "09646c7e",
   "metadata": {},
   "source": [
    "## general statistics"
   ]
  },
  {
   "cell_type": "code",
   "execution_count": 22,
   "id": "8b2fd448",
   "metadata": {},
   "outputs": [],
   "source": [
    "w_robust_95 = x_robust_95.value\n",
    "ret_robust_95 = mu.T@w_robust_95\n",
    "var_robust_95 = w_robust_95.T@Q@w_robust_95\n",
    "sd_robust_95 = np.sqrt(var_robust_95)\n",
    "sharpe_robust_95 = (ret_robust_95 - rf_m) / sd_robust_95"
   ]
  },
  {
   "cell_type": "code",
   "execution_count": 23,
   "id": "f9a73f39",
   "metadata": {},
   "outputs": [
    {
     "name": "stdout",
     "output_type": "stream",
     "text": [
      "Robust MVO with 95% CL result:\n",
      "Robust MVO with 95% CL Portfolio return = 0.110653\n",
      "Robust MVO with 95% CL Portfolio variance = 0.019814\n",
      "Robust MVO with 95% CL Standard deviation = 0.140761\n",
      "Robust MVO with 95% CL Sharpe ratio = 0.760378\n"
     ]
    }
   ],
   "source": [
    "print(\"Robust MVO with 95% CL result:\")\n",
    "print(f\"Robust MVO with 95% CL Portfolio return = {ret_robust_95:.6f}\")\n",
    "print(f\"Robust MVO with 95% CL Portfolio variance = {var_robust_95:.6f}\")\n",
    "print(f\"Robust MVO with 95% CL Standard deviation = {sd_robust_95:.6f}\")\n",
    "print(f\"Robust MVO with 95% CL Sharpe ratio = {sharpe_robust_95:.6f}\")"
   ]
  },
  {
   "cell_type": "code",
   "execution_count": null,
   "id": "bfe7dc03",
   "metadata": {},
   "outputs": [],
   "source": []
  },
  {
   "cell_type": "markdown",
   "id": "ae867152",
   "metadata": {},
   "source": [
    "# 3.Risk Parity optimization(no short selling)"
   ]
  },
  {
   "cell_type": "code",
   "execution_count": 24,
   "id": "c4872615",
   "metadata": {},
   "outputs": [],
   "source": [
    "# It is hard to formulate risk parity optimization problems in cplex.\n",
    "# However cyipopt can handle this kind of problem with ease.\n",
    "# we need to copy the class structure from the document and fill in the 4 mandatory methods\n",
    "# in order to instantiate a RPO problem for cyipopt to solve\n",
    "class rpo(object):\n",
    "    def __init__(self):\n",
    "        pass\n",
    "\n",
    "    def objective(self, x):\n",
    "        # fit in the objective function\n",
    "        # minimize risk contribution difference between each pair of assets\n",
    "        # xi(Qx)i = x*(Q_matrix@x)[i]\n",
    "        y = x*(Q_matrix@x)\n",
    "        #sum up total diff for xi paired with all xj\n",
    "        sum_diff = 0\n",
    "        # we want to compute each pair's difference and sum it.\n",
    "        for i in range(20):\n",
    "            for j in range(20):\n",
    "                diff = y[i] - y[j]\n",
    "                sum_diff = sum_diff + diff*diff\n",
    "\n",
    "        return sum_diff\n",
    "\n",
    "    def gradient(self, x):\n",
    "        # calculate gradient\n",
    "        \n",
    "        gradient = [0.0] * 20  \n",
    "        #it is not necessary to recompute risk for xi and xj every iteration \n",
    "        #compute risk contribution for all xi.\n",
    "        risk = x * (Q @ x)        \n",
    "        # (x * (Q @ x)) [i] = x[i] * (Q @ x)[i]\n",
    "        for i in range(20):\n",
    "            for j in range(20):\n",
    "                #derivative for xi = 2*f(x)*(Qi@x + Qii*xi - Qji*xj)\n",
    "                deriv = (Q_matrix[i]@x + Q_matrix[i,i] * x[i]) - (Q_matrix[j,i] * x[j])\n",
    "                #delta = 2 *(x[i] * (Q @ x)[i]-x[j] * (Q @ x)[j]) * deriv\n",
    "                delta = 2 *(risk[i]-risk[j]) * (deriv)\n",
    "                #sum up derivatives for xi\n",
    "                gradient[i] = gradient[i] + delta\n",
    "        \"\"\"\n",
    "        gradient = 4* 20 *(np.diag(Q@x) + Q.T*np.diag(x))\n",
    "        gradient = gradient@(np.identity(20) - 1/20*np.ones((20, 20))) \n",
    "        #print(gradient.shape)\n",
    "        gradient = gradient@ (x*(Q@x).to_numpy().reshape(20,1))\n",
    "        \"\"\"\n",
    "        return gradient\n",
    "\n",
    "    def constraints(self, x):\n",
    "        # return the constraint values for x.\n",
    "        # In this case, sum of all xi = 1\n",
    "        return np.sum(x)\n",
    "    \n",
    "    def jacobian(self, x):\n",
    "        # derivative wrt. every xi in the constraint\n",
    "        return np.array([1.0] * 20)"
   ]
  },
  {
   "cell_type": "code",
   "execution_count": 25,
   "id": "55b673ff",
   "metadata": {},
   "outputs": [],
   "source": [
    "# w_start is the starting point for cyipopt optimization\n",
    "w_start = np.array([1.0/20] * 20)\n",
    "# the ub and lb for contraints need to be 1.\n",
    "# there is only 1 constraint. We want sum(xi) = 1\n",
    "cl = [1]        \n",
    "cu = [1]        \n",
    "# lb an ub on variables : x\n",
    "lb = np.array([0.0] * 20)\n",
    "ub = np.array([1.0] * 20)  \n",
    "\n",
    "p3 = cyipopt.Problem(n=len(w_start), m=len(cl), problem_obj=rpo(), lb=lb, ub=ub, cl=cl, cu=cu)\n",
    "w_rpo, info = p3.solve(w_start)"
   ]
  },
  {
   "cell_type": "code",
   "execution_count": 26,
   "id": "28cf3f79",
   "metadata": {},
   "outputs": [
    {
     "data": {
      "text/plain": [
       "array([0.01669418, 0.03264754, 0.06617706, 0.02912261, 0.05619348,\n",
       "       0.09259773, 0.14252809, 0.0248835 , 0.05193213, 0.0290704 ,\n",
       "       0.01539368, 0.03717095, 0.04028875, 0.0835806 , 0.03597368,\n",
       "       0.03294796, 0.06165906, 0.03367499, 0.03461158, 0.08285202])"
      ]
     },
     "execution_count": 26,
     "metadata": {},
     "output_type": "execute_result"
    }
   ],
   "source": [
    "w_rpo"
   ]
  },
  {
   "cell_type": "markdown",
   "id": "eb94a4c1",
   "metadata": {},
   "source": [
    "## general statistics"
   ]
  },
  {
   "cell_type": "code",
   "execution_count": 27,
   "id": "04934f74",
   "metadata": {},
   "outputs": [],
   "source": [
    "ret_rpo = mu.T@w_rpo\n",
    "var_rpo = w_rpo.T@Q@w_rpo\n",
    "sd_rpo = np.sqrt(var_rpo)\n",
    "sharpe_rpo = (ret_rpo - rf_m) / sd_rpo"
   ]
  },
  {
   "cell_type": "code",
   "execution_count": 28,
   "id": "15a9987f",
   "metadata": {},
   "outputs": [
    {
     "name": "stdout",
     "output_type": "stream",
     "text": [
      "RPO result:\n",
      "RPO Portfolio return = 0.006314\n",
      "RPO Portfolio variance = 0.000476\n",
      "RPO Standard deviation = 0.021826\n",
      "RPO Sharpe ratio = 0.123360\n"
     ]
    }
   ],
   "source": [
    "print(\"RPO result:\")\n",
    "print(f\"RPO Portfolio return = {ret_rpo:.6f}\")\n",
    "print(f\"RPO Portfolio variance = {var_rpo:.6f}\")\n",
    "print(f\"RPO Standard deviation = {sd_rpo:.6f}\")\n",
    "print(f\"RPO Sharpe ratio = {sharpe_rpo:.6f}\")"
   ]
  },
  {
   "cell_type": "code",
   "execution_count": null,
   "id": "32008c6a",
   "metadata": {},
   "outputs": [],
   "source": []
  },
  {
   "cell_type": "markdown",
   "id": "e6fab78e",
   "metadata": {},
   "source": [
    "# 4.Market Captalization "
   ]
  },
  {
   "cell_type": "markdown",
   "id": "acb86097",
   "metadata": {},
   "source": [
    "## general statistics"
   ]
  },
  {
   "cell_type": "code",
   "execution_count": 29,
   "id": "8cbb2066",
   "metadata": {},
   "outputs": [],
   "source": [
    "# we already have the weights, expected market return and variance for market cap\n",
    "sd_cap = np.sqrt(var_cap)\n",
    "sharpe_cap = (ret_cap - rf_m) / sd_cap"
   ]
  },
  {
   "cell_type": "code",
   "execution_count": 30,
   "id": "e680d1b5",
   "metadata": {},
   "outputs": [
    {
     "name": "stdout",
     "output_type": "stream",
     "text": [
      "Market Cap result:\n",
      "Market Cap return = 0.007225\n",
      "Market Cap variance = 0.000906\n",
      "Market Cap Standard deviation = 0.030101\n",
      "Market Cap Sharpe ratio = 0.119720\n"
     ]
    }
   ],
   "source": [
    "print(\"Market Cap result:\")\n",
    "print(f\"Market Cap return = {ret_cap:.6f}\")\n",
    "print(f\"Market Cap variance = {var_cap:.6f}\")\n",
    "print(f\"Market Cap Standard deviation = {sd_cap:.6f}\")\n",
    "print(f\"Market Cap Sharpe ratio = {sharpe_cap:.6f}\")"
   ]
  },
  {
   "cell_type": "code",
   "execution_count": null,
   "id": "749b0eaf",
   "metadata": {},
   "outputs": [],
   "source": []
  },
  {
   "cell_type": "markdown",
   "id": "3632d5b4",
   "metadata": {},
   "source": [
    "# Question a "
   ]
  },
  {
   "cell_type": "markdown",
   "id": "d88fd7f7",
   "metadata": {},
   "source": [
    "### MVO October 2008 statistics"
   ]
  },
  {
   "cell_type": "code",
   "execution_count": 31,
   "id": "a60501ff",
   "metadata": {},
   "outputs": [],
   "source": [
    "retoct_mvo = ret_oct.T@w_mvo\n",
    "varoct_mvo = w_mvo.T@Q@w_mvo\n",
    "sdoct_mvo = np.sqrt(varoct_mvo)\n",
    "sharpeoct_mvo = (retoct_mvo - rf_m) / sdoct_mvo"
   ]
  },
  {
   "cell_type": "code",
   "execution_count": 32,
   "id": "209521a4",
   "metadata": {},
   "outputs": [
    {
     "name": "stdout",
     "output_type": "stream",
     "text": [
      "MVO result for Oct 2008:\n",
      "Oct MVO Portfolio return = 0.185880\n",
      "Oct MVO Portfolio variance = 0.009606\n",
      "Oct MVO Standard deviation = 0.098012\n",
      "Oct MVO Sharpe ratio = 1.859565\n"
     ]
    }
   ],
   "source": [
    "print(\"MVO result for Oct 2008:\")\n",
    "print(f\"Oct MVO Portfolio return = {retoct_mvo:.6f}\")\n",
    "print(f\"Oct MVO Portfolio variance = {varoct_mvo:.6f}\")\n",
    "print(f\"Oct MVO Standard deviation = {sdoct_mvo:.6f}\")\n",
    "print(f\"Oct MVO Sharpe ratio = {sharpeoct_mvo:.6f}\")"
   ]
  },
  {
   "cell_type": "markdown",
   "id": "7d53d934",
   "metadata": {},
   "source": [
    "### Robust MVO October 2008 statistics(90% CL)"
   ]
  },
  {
   "cell_type": "code",
   "execution_count": 33,
   "id": "327899e0",
   "metadata": {},
   "outputs": [],
   "source": [
    "retoct_robust_90 = ret_oct.T@w_robust_90\n",
    "varoct_robust_90 = w_robust_90.T@Q@w_robust_90\n",
    "sdoct_robust_90 = np.sqrt(varoct_robust_90)\n",
    "sharpeoct_robust_90 = (retoct_robust_90 - rf_m) / sdoct_robust_90"
   ]
  },
  {
   "cell_type": "code",
   "execution_count": 34,
   "id": "7fe1ff57",
   "metadata": {},
   "outputs": [
    {
     "name": "stdout",
     "output_type": "stream",
     "text": [
      "Robust MVO with 90% CL result for Oct 2008:\n",
      "Oct Robust MVO with 90% CL Portfolio return = 0.305243\n",
      "Oct Robust MVO with 90% CL Portfolio variance = 0.018436\n",
      "Oct Robust MVO with 90% CL Standard deviation = 0.135778\n",
      "Oct Robust MVO with 90% CL Sharpe ratio = 2.221430\n"
     ]
    }
   ],
   "source": [
    "print(\"Robust MVO with 90% CL result for Oct 2008:\")\n",
    "print(f\"Oct Robust MVO with 90% CL Portfolio return = {retoct_robust_90:.6f}\")\n",
    "print(f\"Oct Robust MVO with 90% CL Portfolio variance = {varoct_robust_90:.6f}\")\n",
    "print(f\"Oct Robust MVO with 90% CL Standard deviation = {sdoct_robust_90:.6f}\")\n",
    "print(f\"Oct Robust MVO with 90% CL Sharpe ratio = {sharpeoct_robust_90:.6f}\")"
   ]
  },
  {
   "cell_type": "markdown",
   "id": "16aafab4",
   "metadata": {},
   "source": [
    "### Robust MVO October 2008 statistics(95% CL)"
   ]
  },
  {
   "cell_type": "code",
   "execution_count": 35,
   "id": "75d61cf7",
   "metadata": {},
   "outputs": [],
   "source": [
    "retoct_robust_95 = ret_oct.T@w_robust_95\n",
    "varoct_robust_95 = w_robust_95.T@Q@w_robust_95\n",
    "sdoct_robust_95 = np.sqrt(varoct_robust_95)\n",
    "sharpeoct_robust_95 = (retoct_robust_95 - rf_m) / sdoct_robust_95"
   ]
  },
  {
   "cell_type": "code",
   "execution_count": 36,
   "id": "d60ffc0f",
   "metadata": {},
   "outputs": [
    {
     "name": "stdout",
     "output_type": "stream",
     "text": [
      "Robust MVO with 95% CL result for Oct 2008:\n",
      "Oct Robust MVO with 95% CL Portfolio return = 0.303770\n",
      "Oct Robust MVO with 95% CL Portfolio variance = 0.019814\n",
      "Oct Robust MVO with 95% CL Standard deviation = 0.140761\n",
      "Oct Robust MVO with 95% CL Sharpe ratio = 2.132322\n"
     ]
    }
   ],
   "source": [
    "print(\"Robust MVO with 95% CL result for Oct 2008:\")\n",
    "print(f\"Oct Robust MVO with 95% CL Portfolio return = {retoct_robust_95:.6f}\")\n",
    "print(f\"Oct Robust MVO with 95% CL Portfolio variance = {varoct_robust_95:.6f}\")\n",
    "print(f\"Oct Robust MVO with 95% CL Standard deviation = {sdoct_robust_95:.6f}\")\n",
    "print(f\"Oct Robust MVO with 95% CL Sharpe ratio = {sharpeoct_robust_95:.6f}\")"
   ]
  },
  {
   "cell_type": "markdown",
   "id": "3c76e485",
   "metadata": {},
   "source": [
    "### Risk Parity optimization October 2008 statistics"
   ]
  },
  {
   "cell_type": "code",
   "execution_count": 37,
   "id": "a90521c0",
   "metadata": {},
   "outputs": [],
   "source": [
    "retoct_rpo = ret_oct.T@w_rpo\n",
    "varoct_rpo = w_rpo.T@Q@w_rpo\n",
    "sdoct_rpo = np.sqrt(varoct_rpo)\n",
    "sharpeoct_rpo = (retoct_rpo - rf_m) / sdoct_rpo"
   ]
  },
  {
   "cell_type": "code",
   "execution_count": 38,
   "id": "b5fe28f7",
   "metadata": {},
   "outputs": [
    {
     "name": "stdout",
     "output_type": "stream",
     "text": [
      "Risk Parity optimization result for Oct 2008:\n",
      "Oct RPO Portfolio return = -0.145989\n",
      "Oct RPO Portfolio variance = 0.000476\n",
      "Oct RPO Standard deviation = 0.021826\n",
      "Oct RPO Sharpe ratio = -6.854690\n"
     ]
    }
   ],
   "source": [
    "print(\"Risk Parity optimization result for Oct 2008:\")\n",
    "print(f\"Oct RPO Portfolio return = {retoct_rpo:.6f}\")\n",
    "print(f\"Oct RPO Portfolio variance = {varoct_rpo:.6f}\")\n",
    "print(f\"Oct RPO Standard deviation = {sdoct_rpo:.6f}\")\n",
    "print(f\"Oct RPO Sharpe ratio = {sharpeoct_rpo:.6f}\")"
   ]
  },
  {
   "cell_type": "markdown",
   "id": "a72dd90b",
   "metadata": {},
   "source": [
    "### Market Capitalization October 2008 statistics"
   ]
  },
  {
   "cell_type": "code",
   "execution_count": 39,
   "id": "970f40ce",
   "metadata": {},
   "outputs": [],
   "source": [
    "retoct_cap = ret_oct.T@w_cap\n",
    "varoct_cap = w_cap.T@Q@w_cap\n",
    "sdoct_cap = np.sqrt(varoct_cap)\n",
    "sharpeoct_cap = (retoct_cap - rf_m) / sdoct_cap"
   ]
  },
  {
   "cell_type": "code",
   "execution_count": 40,
   "id": "4005b339",
   "metadata": {},
   "outputs": [
    {
     "name": "stdout",
     "output_type": "stream",
     "text": [
      "Market Cap result for Oct 2008:\n",
      "Oct Market Cap Portfolio return = -0.116334\n",
      "Oct Market Cap Portfolio variance = 0.000906\n",
      "Oct Market Cap Standard deviation = 0.030101\n",
      "Oct Market Cap Sharpe ratio = -3.985125\n"
     ]
    }
   ],
   "source": [
    "print(\"Market Cap result for Oct 2008:\")\n",
    "print(f\"Oct Market Cap Portfolio return = {retoct_cap:.6f}\")\n",
    "print(f\"Oct Market Cap Portfolio variance = {varoct_cap:.6f}\")\n",
    "print(f\"Oct Market Cap Standard deviation = {sdoct_cap:.6f}\")\n",
    "print(f\"Oct Market Cap Sharpe ratio = {sharpeoct_cap:.6f}\")"
   ]
  },
  {
   "cell_type": "code",
   "execution_count": 41,
   "id": "4b1e3fb0",
   "metadata": {},
   "outputs": [
    {
     "name": "stdout",
     "output_type": "stream",
     "text": [
      "October statistics for the 4 portfolios\n"
     ]
    },
    {
     "data": {
      "text/html": [
       "<div>\n",
       "<style scoped>\n",
       "    .dataframe tbody tr th:only-of-type {\n",
       "        vertical-align: middle;\n",
       "    }\n",
       "\n",
       "    .dataframe tbody tr th {\n",
       "        vertical-align: top;\n",
       "    }\n",
       "\n",
       "    .dataframe thead th {\n",
       "        text-align: right;\n",
       "    }\n",
       "</style>\n",
       "<table border=\"1\" class=\"dataframe\">\n",
       "  <thead>\n",
       "    <tr style=\"text-align: right;\">\n",
       "      <th></th>\n",
       "      <th>return</th>\n",
       "      <th>variance</th>\n",
       "      <th>standard_deviation</th>\n",
       "      <th>sharpe_ratio</th>\n",
       "    </tr>\n",
       "  </thead>\n",
       "  <tbody>\n",
       "    <tr>\n",
       "      <th>MVO</th>\n",
       "      <td>0.185880</td>\n",
       "      <td>0.009606</td>\n",
       "      <td>0.098012</td>\n",
       "      <td>1.859565</td>\n",
       "    </tr>\n",
       "    <tr>\n",
       "      <th>Robust_MVO_90</th>\n",
       "      <td>0.305243</td>\n",
       "      <td>0.018436</td>\n",
       "      <td>0.135778</td>\n",
       "      <td>2.221430</td>\n",
       "    </tr>\n",
       "    <tr>\n",
       "      <th>Robust_MVO_95</th>\n",
       "      <td>0.303770</td>\n",
       "      <td>0.019814</td>\n",
       "      <td>0.140761</td>\n",
       "      <td>2.132322</td>\n",
       "    </tr>\n",
       "    <tr>\n",
       "      <th>Risk Parity Optimization</th>\n",
       "      <td>-0.145989</td>\n",
       "      <td>0.000476</td>\n",
       "      <td>0.021826</td>\n",
       "      <td>-6.854690</td>\n",
       "    </tr>\n",
       "    <tr>\n",
       "      <th>Market Capitalization</th>\n",
       "      <td>-0.116334</td>\n",
       "      <td>0.000906</td>\n",
       "      <td>0.030101</td>\n",
       "      <td>-3.985125</td>\n",
       "    </tr>\n",
       "  </tbody>\n",
       "</table>\n",
       "</div>"
      ],
      "text/plain": [
       "                             return  variance  standard_deviation  \\\n",
       "MVO                        0.185880  0.009606            0.098012   \n",
       "Robust_MVO_90              0.305243  0.018436            0.135778   \n",
       "Robust_MVO_95              0.303770  0.019814            0.140761   \n",
       "Risk Parity Optimization  -0.145989  0.000476            0.021826   \n",
       "Market Capitalization     -0.116334  0.000906            0.030101   \n",
       "\n",
       "                           sharpe_ratio  \n",
       "MVO                            1.859565  \n",
       "Robust_MVO_90                  2.221430  \n",
       "Robust_MVO_95                  2.132322  \n",
       "Risk Parity Optimization      -6.854690  \n",
       "Market Capitalization         -3.985125  "
      ]
     },
     "execution_count": 41,
     "metadata": {},
     "output_type": "execute_result"
    }
   ],
   "source": [
    "print(f\"October statistics for the 4 portfolios\")\n",
    "results={'MVO':[retoct_mvo,varoct_mvo,sdoct_mvo,sharpeoct_mvo],\n",
    "        'Robust_MVO_90':[retoct_robust_90,varoct_robust_90,sdoct_robust_90,sharpeoct_robust_90],\n",
    "        'Robust_MVO_95': [retoct_robust_95,varoct_robust_95,sdoct_robust_95,sharpeoct_robust_95],\n",
    "        'Risk Parity Optimization ': [retoct_rpo,varoct_rpo,sdoct_rpo,sharpeoct_rpo],\n",
    "        'Market Capitalization' : [retoct_cap,varoct_cap,sdoct_cap,sharpeoct_cap]}\n",
    "mvo_results = pd.DataFrame(results, index = ['return','variance','standard_deviation','sharpe_ratio'])\n",
    "mvo_results.T\n"
   ]
  },
  {
   "cell_type": "markdown",
   "id": "804ac98c",
   "metadata": {},
   "source": [
    "# Question b"
   ]
  },
  {
   "cell_type": "markdown",
   "id": "83a1c1c7",
   "metadata": {},
   "source": [
    "### MVO November 2008 statistics"
   ]
  },
  {
   "cell_type": "code",
   "execution_count": 42,
   "id": "9a445ecb",
   "metadata": {},
   "outputs": [],
   "source": [
    "retnov_mvo = ret_nov.T@w_mvo\n",
    "varnov_mvo = w_mvo.T@Q@w_mvo\n",
    "sdnov_mvo = np.sqrt(varnov_mvo)\n",
    "sharpenov_mvo = (retnov_mvo - rf_m) / sdnov_mvo"
   ]
  },
  {
   "cell_type": "code",
   "execution_count": 43,
   "id": "463efc98",
   "metadata": {},
   "outputs": [
    {
     "name": "stdout",
     "output_type": "stream",
     "text": [
      "MVO result for Nov 2008:\n",
      "Nov MVO Portfolio return = 0.264199\n",
      "Nov MVO Portfolio variance = 0.009606\n",
      "Nov MVO Standard deviation = 0.098012\n",
      "Nov MVO Sharpe ratio = 2.658637\n"
     ]
    }
   ],
   "source": [
    "print(\"MVO result for Nov 2008:\")\n",
    "print(f\"Nov MVO Portfolio return = {retnov_mvo:.6f}\")\n",
    "print(f\"Nov MVO Portfolio variance = {varnov_mvo:.6f}\")\n",
    "print(f\"Nov MVO Standard deviation = {sdnov_mvo:.6f}\")\n",
    "print(f\"Nov MVO Sharpe ratio = {sharpenov_mvo:.6f}\")"
   ]
  },
  {
   "cell_type": "markdown",
   "id": "4b9f36fe",
   "metadata": {},
   "source": [
    "### Robust MVO November 2008 statistics(90% CL)"
   ]
  },
  {
   "cell_type": "code",
   "execution_count": 44,
   "id": "6c5a818e",
   "metadata": {},
   "outputs": [],
   "source": [
    "retnov_robust_90 = ret_nov.T@w_robust_90\n",
    "varnov_robust_90 = w_robust_90.T@Q@w_robust_90\n",
    "sdnov_robust_90 = np.sqrt(varnov_robust_90)\n",
    "sharpenov_robust_90 = (retnov_robust_90 - rf_m) / sdnov_robust_90"
   ]
  },
  {
   "cell_type": "code",
   "execution_count": 45,
   "id": "853a5ba3",
   "metadata": {},
   "outputs": [
    {
     "name": "stdout",
     "output_type": "stream",
     "text": [
      "Robust MVO with 90% CL result for Nov 2008:\n",
      "Nov Robust MVO with 90% CL Portfolio return = 0.158755\n",
      "Nov Robust MVO with 90% CL Portfolio variance = 0.018436\n",
      "Nov Robust MVO with 90% CL Standard deviation = 0.135778\n",
      "Nov Robust MVO with 90% CL Sharpe ratio = 1.142555\n"
     ]
    }
   ],
   "source": [
    "print(\"Robust MVO with 90% CL result for Nov 2008:\")\n",
    "print(f\"Nov Robust MVO with 90% CL Portfolio return = {retnov_robust_90:.6f}\")\n",
    "print(f\"Nov Robust MVO with 90% CL Portfolio variance = {varnov_robust_90:.6f}\")\n",
    "print(f\"Nov Robust MVO with 90% CL Standard deviation = {sdnov_robust_90:.6f}\")\n",
    "print(f\"Nov Robust MVO with 90% CL Sharpe ratio = {sharpenov_robust_90:.6f}\")"
   ]
  },
  {
   "cell_type": "markdown",
   "id": "4ccc9105",
   "metadata": {},
   "source": [
    "### Robust MVO November 2008 statistics(95% CL)"
   ]
  },
  {
   "cell_type": "code",
   "execution_count": 46,
   "id": "47fa68e9",
   "metadata": {},
   "outputs": [],
   "source": [
    "retnov_robust_95 = ret_nov.T@w_robust_95\n",
    "varnov_robust_95 = w_robust_95.T@Q@w_robust_95\n",
    "sdnov_robust_95 = np.sqrt(varnov_robust_95)\n",
    "sharpenov_robust_95 = (retnov_robust_95 - rf_m) / sdnov_robust_95"
   ]
  },
  {
   "cell_type": "code",
   "execution_count": 47,
   "id": "3b0e4b2e",
   "metadata": {},
   "outputs": [
    {
     "name": "stdout",
     "output_type": "stream",
     "text": [
      "Robust MVO with 95% CL result for Nov 2008:\n",
      "Nov Robust MVO with 95% CL Portfolio return = 0.095052\n",
      "Nov Robust MVO with 95% CL Portfolio variance = 0.019814\n",
      "Nov Robust MVO with 95% CL Standard deviation = 0.140761\n",
      "Nov Robust MVO with 95% CL Sharpe ratio = 0.649542\n"
     ]
    }
   ],
   "source": [
    "print(\"Robust MVO with 95% CL result for Nov 2008:\")\n",
    "print(f\"Nov Robust MVO with 95% CL Portfolio return = {retnov_robust_95:.6f}\")\n",
    "print(f\"Nov Robust MVO with 95% CL Portfolio variance = {varnov_robust_95:.6f}\")\n",
    "print(f\"Nov Robust MVO with 95% CL Standard deviation = {sdnov_robust_95:.6f}\")\n",
    "print(f\"Nov Robust MVO with 95% CL Sharpe ratio = {sharpenov_robust_95:.6f}\")"
   ]
  },
  {
   "cell_type": "markdown",
   "id": "462e0b0a",
   "metadata": {},
   "source": [
    "### Risk Parity optimization November 2008 statistics"
   ]
  },
  {
   "cell_type": "code",
   "execution_count": 48,
   "id": "fe3ccbae",
   "metadata": {},
   "outputs": [],
   "source": [
    "retnov_rpo = ret_nov.T@w_rpo\n",
    "varnov_rpo = w_rpo.T@Q@w_rpo\n",
    "sdnov_rpo = np.sqrt(varnov_rpo)\n",
    "sharpenov_rpo = (retnov_rpo - rf_m) / sdnov_rpo"
   ]
  },
  {
   "cell_type": "code",
   "execution_count": 49,
   "id": "d77f7ba1",
   "metadata": {},
   "outputs": [
    {
     "name": "stdout",
     "output_type": "stream",
     "text": [
      "Risk Parity optimization result for Nov 2008:\n",
      "Nov RPO Portfolio return = -0.008364\n",
      "Nov RPO Portfolio variance = 0.000476\n",
      "Nov RPO Standard deviation = 0.021826\n",
      "Nov RPO Sharpe ratio = -0.549125\n"
     ]
    }
   ],
   "source": [
    "print(\"Risk Parity optimization result for Nov 2008:\")\n",
    "print(f\"Nov RPO Portfolio return = {retnov_rpo:.6f}\")\n",
    "print(f\"Nov RPO Portfolio variance = {varnov_rpo:.6f}\")\n",
    "print(f\"Nov RPO Standard deviation = {sdnov_rpo:.6f}\")\n",
    "print(f\"Nov RPO Sharpe ratio = {sharpenov_rpo:.6f}\")"
   ]
  },
  {
   "cell_type": "markdown",
   "id": "691d8123",
   "metadata": {},
   "source": [
    "### market capitalization November 2008 statistics"
   ]
  },
  {
   "cell_type": "code",
   "execution_count": 50,
   "id": "1a649f5a",
   "metadata": {},
   "outputs": [],
   "source": [
    "retnov_cap = ret_nov.T@w_cap\n",
    "varnov_cap = w_cap.T@Q@w_cap\n",
    "sdnov_cap = np.sqrt(varnov_cap)\n",
    "sharpenov_cap = (retnov_cap - rf_m) / sdnov_cap"
   ]
  },
  {
   "cell_type": "code",
   "execution_count": 51,
   "id": "8900405b",
   "metadata": {},
   "outputs": [
    {
     "name": "stdout",
     "output_type": "stream",
     "text": [
      "Market Cap result for Nov 2008:\n",
      "Nov Market Cap Portfolio return = -0.039984\n",
      "Nov Market Cap Portfolio variance = 0.000906\n",
      "Nov Market Cap Standard deviation = 0.030101\n",
      "Nov Market Cap Sharpe ratio = -1.448652\n"
     ]
    }
   ],
   "source": [
    "print(\"Market Cap result for Nov 2008:\")\n",
    "print(f\"Nov Market Cap Portfolio return = {retnov_cap:.6f}\")\n",
    "print(f\"Nov Market Cap Portfolio variance = {varnov_cap:.6f}\")\n",
    "print(f\"Nov Market Cap Standard deviation = {sdnov_cap:.6f}\")\n",
    "print(f\"Nov Market Cap Sharpe ratio = {sharpenov_cap:.6f}\")"
   ]
  },
  {
   "cell_type": "code",
   "execution_count": 52,
   "id": "cd52b7eb",
   "metadata": {},
   "outputs": [
    {
     "name": "stdout",
     "output_type": "stream",
     "text": [
      "November statistics for the 4 portfolios\n"
     ]
    },
    {
     "data": {
      "text/html": [
       "<div>\n",
       "<style scoped>\n",
       "    .dataframe tbody tr th:only-of-type {\n",
       "        vertical-align: middle;\n",
       "    }\n",
       "\n",
       "    .dataframe tbody tr th {\n",
       "        vertical-align: top;\n",
       "    }\n",
       "\n",
       "    .dataframe thead th {\n",
       "        text-align: right;\n",
       "    }\n",
       "</style>\n",
       "<table border=\"1\" class=\"dataframe\">\n",
       "  <thead>\n",
       "    <tr style=\"text-align: right;\">\n",
       "      <th></th>\n",
       "      <th>return</th>\n",
       "      <th>variance</th>\n",
       "      <th>standard_deviation</th>\n",
       "      <th>sharpe_ratio</th>\n",
       "    </tr>\n",
       "  </thead>\n",
       "  <tbody>\n",
       "    <tr>\n",
       "      <th>MVO</th>\n",
       "      <td>0.264199</td>\n",
       "      <td>0.009606</td>\n",
       "      <td>0.098012</td>\n",
       "      <td>2.658637</td>\n",
       "    </tr>\n",
       "    <tr>\n",
       "      <th>Robust_MVO_90</th>\n",
       "      <td>0.158755</td>\n",
       "      <td>0.018436</td>\n",
       "      <td>0.135778</td>\n",
       "      <td>1.142555</td>\n",
       "    </tr>\n",
       "    <tr>\n",
       "      <th>Robust_MVO_95</th>\n",
       "      <td>0.095052</td>\n",
       "      <td>0.019814</td>\n",
       "      <td>0.140761</td>\n",
       "      <td>0.649542</td>\n",
       "    </tr>\n",
       "    <tr>\n",
       "      <th>Risk Parity Optimization</th>\n",
       "      <td>-0.008364</td>\n",
       "      <td>0.000476</td>\n",
       "      <td>0.021826</td>\n",
       "      <td>-0.549125</td>\n",
       "    </tr>\n",
       "    <tr>\n",
       "      <th>Market Capitalization</th>\n",
       "      <td>-0.039984</td>\n",
       "      <td>0.000906</td>\n",
       "      <td>0.030101</td>\n",
       "      <td>-1.448652</td>\n",
       "    </tr>\n",
       "  </tbody>\n",
       "</table>\n",
       "</div>"
      ],
      "text/plain": [
       "                             return  variance  standard_deviation  \\\n",
       "MVO                        0.264199  0.009606            0.098012   \n",
       "Robust_MVO_90              0.158755  0.018436            0.135778   \n",
       "Robust_MVO_95              0.095052  0.019814            0.140761   \n",
       "Risk Parity Optimization  -0.008364  0.000476            0.021826   \n",
       "Market Capitalization     -0.039984  0.000906            0.030101   \n",
       "\n",
       "                           sharpe_ratio  \n",
       "MVO                            2.658637  \n",
       "Robust_MVO_90                  1.142555  \n",
       "Robust_MVO_95                  0.649542  \n",
       "Risk Parity Optimization      -0.549125  \n",
       "Market Capitalization         -1.448652  "
      ]
     },
     "execution_count": 52,
     "metadata": {},
     "output_type": "execute_result"
    }
   ],
   "source": [
    "print(f\"November statistics for the 4 portfolios\")\n",
    "results={'MVO':[retnov_mvo,varnov_mvo,sdnov_mvo,sharpenov_mvo],\n",
    "        'Robust_MVO_90':[retnov_robust_90,varnov_robust_90,sdnov_robust_90,sharpenov_robust_90],\n",
    "        'Robust_MVO_95': [retnov_robust_95,varnov_robust_95,sdnov_robust_95,sharpenov_robust_95],\n",
    "        'Risk Parity Optimization ': [retnov_rpo,varnov_rpo,sdnov_rpo,sharpenov_rpo],\n",
    "        'Market Capitalization' : [retnov_cap,varnov_cap,sdnov_cap,sharpenov_cap]}\n",
    "mvo_results = pd.DataFrame(results, index = ['return','variance','standard_deviation','sharpe_ratio'])\n",
    "mvo_results.T\n"
   ]
  },
  {
   "cell_type": "code",
   "execution_count": null,
   "id": "13fdacad",
   "metadata": {},
   "outputs": [],
   "source": []
  },
  {
   "cell_type": "markdown",
   "id": "44fd31bd",
   "metadata": {},
   "source": [
    "# Question c"
   ]
  },
  {
   "cell_type": "code",
   "execution_count": 53,
   "id": "775bf88e",
   "metadata": {},
   "outputs": [],
   "source": [
    "nop =120\n",
    "# estimated MVO frontier\n",
    "# adjust the risk prefernce by adjusting lambda values\n",
    "#lambda_values = np.arange(0.2,20.2,0.2)\n",
    "lambda_values = np.linspace(1,30,nop)\n",
    "ret_list1 = []\n",
    "var_list1 = []\n",
    "w_list1 = []\n",
    "for i in lambda_values:    \n",
    "    x_tmp = cp.Variable(20)\n",
    "    constraints = [sum(x_tmp) == 1]\n",
    "    # solve the mvo using cplex\n",
    "    p = cp.Problem(cp.Maximize(mu.T @ x_tmp - i * cp.quad_form(x_tmp, Q_matrix)),constraints)\n",
    "    p.solve(solver=cp.CPLEX, verbose=False)\n",
    "    w_tmp1 = x_tmp.value\n",
    "    w_list1.append(w_tmp1)\n",
    "    ret_list1.append(mu.T@w_tmp1)\n",
    "    var_list1.append(w_tmp1.T@Q@w_tmp1)"
   ]
  },
  {
   "cell_type": "code",
   "execution_count": 54,
   "id": "ae5a15e6",
   "metadata": {},
   "outputs": [],
   "source": [
    "#2.true MVO frontier\n",
    "# This is the frontier using true return\n",
    "#lambda_values = np.arange(0.2,10.2,0.2)\n",
    "lambda_values = np.linspace(1,80,nop)\n",
    "ret_list2 = []\n",
    "var_list2 = []\n",
    "w_list2 = []\n",
    "for i in lambda_values:    \n",
    "    x_tmp = cp.Variable(20)\n",
    "    constraints = [sum(x_tmp) == 1]\n",
    "    # solve the mvo using cplex\n",
    "    p = cp.Problem(cp.Maximize(ret_oct.to_numpy().T @ x_tmp - i * cp.quad_form(x_tmp, Q_matrix)),constraints)\n",
    "    p.solve(solver=cp.CPLEX, verbose=False)\n",
    "    w_tmp2 = x_tmp.value\n",
    "    w_list2.append(w_tmp2)\n",
    "    ret_list2.append(ret_oct.T@w_tmp2)\n",
    "    var_list2.append(w_tmp2.T@Q@w_tmp2)"
   ]
  },
  {
   "cell_type": "code",
   "execution_count": 55,
   "id": "2039b725",
   "metadata": {},
   "outputs": [],
   "source": [
    "#3.actual MVO frontier\n",
    "# this is obtained using the returned weights of the estimated frontier and apply on true return\n",
    "ret_list3 = []\n",
    "var_list3 = []\n",
    "for i in range(len(lambda_values)):\n",
    "    ret_list3.append(ret_oct.T@w_list1[i])\n",
    "    var_list3.append(w_list1[i].T@Q@w_list1[i])"
   ]
  },
  {
   "cell_type": "code",
   "execution_count": 56,
   "id": "ee856f9b",
   "metadata": {},
   "outputs": [],
   "source": [
    "#4 estimated robust MVO frontier(90% CL)\n",
    "#lambda_values = np.arange(0.1,20.1,0.1)\n",
    "lambda_values = np.linspace(1,24,nop)\n",
    "ret_list4 = []\n",
    "var_list4 = []\n",
    "w_list4 = []\n",
    "for i in lambda_values:\n",
    "\n",
    "\n",
    "    x_tmp = cp.Variable(20)\n",
    "    #target_ret = cp.Parameter()\n",
    "    #target_ret.value = ret_mvo\n",
    "    constraints2 = [mu.T@x_tmp - delt_90.T@cp.abs(x_tmp) >= ret_mvo, \n",
    "                    sum(x_tmp) == 1]\n",
    "\n",
    "    p = cp.Problem(cp.Maximize(mu.T @ x_tmp - i * cp.quad_form(x_tmp, Q)),\n",
    "                  constraints2)\n",
    "\n",
    "    p.solve(solver=cp.CPLEX, verbose=False)\n",
    "    w_tmp3 = x_tmp.value\n",
    "    w_list4.append(w_tmp3)\n",
    "    ret_list4.append(mu.T@w_tmp3)\n",
    "    var_list4.append(w_tmp3.T@Q@w_tmp3)\n",
    "\n"
   ]
  },
  {
   "cell_type": "code",
   "execution_count": 57,
   "id": "fcacd938",
   "metadata": {},
   "outputs": [],
   "source": [
    "#5 estimated robust MVO frontier(95% CL)\n",
    "ret_list5 = []\n",
    "var_list5 = []\n",
    "w_list5 = []\n",
    "for i in lambda_values:\n",
    "\n",
    "\n",
    "    x_tmp = cp.Variable(20)\n",
    "    #target_ret = cp.Parameter()\n",
    "    #target_ret.value = ret_mvo\n",
    "    constraints2 = [mu.T@x_tmp - delt_95.T@cp.abs(x_tmp) >= ret_mvo, \n",
    "                    sum(x_tmp) == 1]\n",
    "\n",
    "    p = cp.Problem(cp.Maximize(mu.T @ x_tmp - i * cp.quad_form(x_tmp, Q)),\n",
    "                  constraints2)\n",
    "\n",
    "    p.solve(solver=cp.CPLEX, verbose=False)\n",
    "    w_tmp4 = x_tmp.value\n",
    "    w_list5.append(w_tmp4)\n",
    "    ret_list5.append(mu.T@w_tmp4)\n",
    "    var_list5.append(w_tmp4.T@Q@w_tmp4)\n"
   ]
  },
  {
   "cell_type": "code",
   "execution_count": 58,
   "id": "c8a938f7",
   "metadata": {},
   "outputs": [],
   "source": [
    "#6.actual robust frontier(90% CL)\n",
    "ret_list6 = []\n",
    "var_list6 = []\n",
    "for i in range(len(lambda_values)):\n",
    "    ret_list6.append(ret_oct.T@w_list4[i])\n",
    "    var_list6.append(w_list4[i].T@Q@w_list4[i])    "
   ]
  },
  {
   "cell_type": "code",
   "execution_count": 59,
   "id": "0043617f",
   "metadata": {},
   "outputs": [],
   "source": [
    "#7 actual robust frontier(95% CL)\n",
    "ret_list7 = []\n",
    "var_list7 = []\n",
    "for i in range(len(lambda_values)):\n",
    "    ret_list7.append(ret_oct.T@w_list5[i])\n",
    "    var_list7.append(w_list5[i].T@Q@w_list5[i]) "
   ]
  },
  {
   "cell_type": "code",
   "execution_count": 60,
   "id": "6352e4c5",
   "metadata": {},
   "outputs": [
    {
     "data": {
      "image/png": "[encoded data removed]",
      "text/plain": [
       "<Figure size 1332x648 with 1 Axes>"
      ]
     },
     "metadata": {
      "needs_background": "light"
     },
     "output_type": "display_data"
    }
   ],
   "source": [
    "# efficient frontiers without True MVO frontier\n",
    "\n",
    "fig = plt.gcf()\n",
    "fig.set_size_inches(18.5, 9)\n",
    "ax = plt.gca()\n",
    "ax.plot(np.sqrt(var_list1), ret_list1, label='estimated MVO')\n",
    "#ax.plot(np.sqrt(var_list2), ret_list2, label='true MVO')\n",
    "ax.plot(np.sqrt(var_list3), ret_list3, label='actual MVO')\n",
    "ax.plot(np.sqrt(var_list4), ret_list4, label='estimated robust(90% CL)')\n",
    "ax.plot(np.sqrt(var_list5), ret_list5, label='estimated robust(95% CL)')\n",
    "ax.plot(np.sqrt(var_list6), ret_list6, label='actual robust(90% CL)')\n",
    "ax.plot(np.sqrt(var_list7), ret_list7, label='actual robust(95% CL)')\n",
    "\n",
    "#ax.set(xlim=(0, 0.4))\n",
    "#ax.set(ylim=(0, 4))\n",
    "ax.set_xlabel('Standard Deviation(Risk)')\n",
    "ax.set_ylabel('Expected Return')\n",
    "plt.title('Efficient Frontier(without true MVO)')\n",
    "ax.legend()\n",
    "ax.grid()\n",
    "plt.show()"
   ]
  },
  {
   "cell_type": "code",
   "execution_count": null,
   "id": "7c3da3c6",
   "metadata": {},
   "outputs": [],
   "source": []
  },
  {
   "cell_type": "code",
   "execution_count": 61,
   "id": "f83dad33",
   "metadata": {},
   "outputs": [
    {
     "data": {
      "image/png": "[encoded data removed]",
      "text/plain": [
       "<Figure size 1332x648 with 1 Axes>"
      ]
     },
     "metadata": {
      "needs_background": "light"
     },
     "output_type": "display_data"
    }
   ],
   "source": [
    "# efficient frontiers with True MVO frontier\n",
    "\n",
    "fig = plt.gcf()\n",
    "fig.set_size_inches(18.5, 9)\n",
    "ax = plt.gca()\n",
    "ax.plot(np.sqrt(var_list1), ret_list1, label='estimated MVO')\n",
    "ax.plot(np.sqrt(var_list2), ret_list2, label='true MVO')\n",
    "ax.plot(np.sqrt(var_list3), ret_list3, label='actual MVO')\n",
    "ax.plot(np.sqrt(var_list4), ret_list4, label='estimated robust(90% CL)')\n",
    "ax.plot(np.sqrt(var_list5), ret_list5, label='estimated robust(95% CL)')\n",
    "ax.plot(np.sqrt(var_list6), ret_list6, label='actual robust(90% CL)')\n",
    "ax.plot(np.sqrt(var_list7), ret_list7, label='actual robust(95% CL)')\n",
    "\n",
    "ax.set(xlim=(0, 0.4))\n",
    "ax.set(ylim=(0, 6))\n",
    "ax.set_xlabel('Standard Deviation(Risk)')\n",
    "ax.set_ylabel('Expected Return')\n",
    "plt.title('Efficient Frontier(with true MVO)')\n",
    "ax.legend()\n",
    "ax.grid()\n",
    "plt.show()"
   ]
  },
  {
   "cell_type": "code",
   "execution_count": null,
   "id": "57042c56",
   "metadata": {},
   "outputs": [],
   "source": []
  }
 ],
 "metadata": {
  "kernelspec": {
   "display_name": "Python 3 (ipykernel)",
   "language": "python",
   "name": "python3"
  },
  "language_info": {
   "codemirror_mode": {
    "name": "ipython",
    "version": 3
   },
   "file_extension": ".py",
   "mimetype": "text/x-python",
   "name": "python",
   "nbconvert_exporter": "python",
   "pygments_lexer": "ipython3",
   "version": "3.8.3"
  }
 },
 "nbformat": 4,
 "nbformat_minor": 5
}
