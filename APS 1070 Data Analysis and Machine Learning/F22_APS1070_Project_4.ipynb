{
  "nbformat": 4,
  "nbformat_minor": 0,
  "metadata": {
    "colab": {
      "provenance": []
    },
    "kernelspec": {
      "display_name": "Python 3",
      "language": "python",
      "name": "python3"
    },
    "language_info": {
      "codemirror_mode": {
        "name": "ipython",
        "version": 3
      },
      "file_extension": ".py",
      "mimetype": "text/x-python",
      "name": "python",
      "nbconvert_exporter": "python",
      "pygments_lexer": "ipython3",
      "version": "3.7.4"
    }
  },
  "cells": [
    {
      "cell_type": "markdown",
      "metadata": {
        "id": "OTpnyUEJrAjE"
      },
      "source": [
        "# Project 4, APS1070 Fall 2022\n",
        "#### **Linear Regression -  14 points**\n",
        "**Deadline: Dec 1st, 21:00**\n",
        "\n",
        "**Academic Integrity**\n",
        "\n",
        "This project is individual - it is to be completed on your own. If you have questions, please post your query in the APS1070 Piazza Q&A forums (the answer might be useful to others!).\n",
        "\n",
        "Do not share your code with others, or post your work online. Do not submit code that you have not written yourself. Students suspected of plagiarism on a project, midterm or exam will be referred to the department for formal discipline for breaches of the Student Code of Conduct."
      ]
    },
    {
      "cell_type": "markdown",
      "metadata": {
        "id": "fUdJ6xw3rJIG"
      },
      "source": [
        "Please fill out the following:\n",
        "\n",
        "\n",
        "*   Your **name**: \n",
        "*   Your **student number**: \n",
        "\n"
      ]
    },
    {
      "cell_type": "markdown",
      "source": [
        "### How to submit **(HTML [This notebook] + IPYNB + GitHub [Part 7])**\n",
        "\n",
        "1. Download your notebook: `File -> Download .ipynb`\n",
        "\n",
        "2. Click on the Files icon on the far left menu of Colab\n",
        "\n",
        "3. Select & upload your `.ipynb` file you just downloaded, and then obtain its path (right click) (you might need to hit the Refresh button before your file shows up)\n",
        "\n",
        "\n",
        "4. execute the following in a Colab cell:\n",
        "```\n",
        "%%shell\n",
        "jupyter nbconvert --to html /PATH/TO/YOUR/NOTEBOOKFILE.ipynb\n",
        "```\n",
        "\n",
        "5. An HTML version of your notebook will appear in the files, so you can download it.\n",
        "\n",
        "6. Submit **both** <font color='red'>`HTML` and `IPYNB`</font>  files for this notebook on Quercus for grading.\n",
        "\n",
        "7. Make sure you compeleted the last part on <font color='red'>**GitHub**</font> and added your link to the last cell here. The teaching team will view and grade your part 7 on GitHub.\n",
        "\n",
        "\n",
        "\n",
        "Ref: https://stackoverflow.com/a/64487858 \n",
        "\n"
      ],
      "metadata": {
        "id": "jx52WNv84kBs"
      }
    },
    {
      "cell_type": "markdown",
      "metadata": {
        "id": "o4UwjkNZ3NGk"
      },
      "source": [
        "## Part 1 - Getting Started [1 marks]"
      ]
    },
    {
      "cell_type": "markdown",
      "metadata": {
        "id": "Y62qieYVbct2"
      },
      "source": [
        "Ailerons are small hinged sections on the outboard portion of a wing used to control the roll of an airplane. In this project, we are going to design a controller to manage the ailerons of an aircraft based on supervised learning.\n",
        "\n",
        "![Aileron](https://www.eecg.utoronto.ca/~hadizade/APS1070/p3Ar.jpg)\n",
        "\n",
        "\n"
      ]
    },
    {
      "cell_type": "markdown",
      "metadata": {
        "id": "sdPttalS9MfU"
      },
      "source": [
        "The following dataset contains 13750 instances, where each instance is a set of 40 features describing the airplane's status. Our goal is to use these features to predict the `Goal` column, which is a command that our controller should issue. We will make our predictions by implementing linear regression."
      ]
    },
    {
      "cell_type": "code",
      "metadata": {
        "id": "wVI7N2nWbct3"
      },
      "source": [
        "import pandas as pd\n",
        "import numpy as np\n",
        "\n",
        "df=pd.read_csv(\"https://raw.githubusercontent.com/aps1070-2019/datasets/master/F16L.csv\" , skipinitialspace=True)"
      ],
      "execution_count": null,
      "outputs": []
    },
    {
      "cell_type": "markdown",
      "metadata": {
        "id": "MKRMb9Ju3NGl"
      },
      "source": [
        "Here are the steps to complete this portion:\n",
        "\n",
        "1. Print the dataframe.\n",
        "2. Prepare your dataset as follows: **[0.5]**\n",
        "  *   Using `train_test_split` from Sklearn, split the dataset into training, validation, and test sets ($70\\%$ training, $15\\%$ validation, and $15\\%$ test). When splitting, set `random_state=1`.\n",
        "  *   Standardize the data using `StandardScaler` from sklearn. \n",
        "  *   Insert the first column of all $1$s in the training, validation, and test set.\n",
        " \n",
        "3. Explain the difference between epoch and iteration in the Gradient descent algorithm (SGD/mini-batch)? **[0.5]**"
      ]
    },
    {
      "cell_type": "code",
      "metadata": {
        "id": "barDBI-f5Q9s"
      },
      "source": [
        "### YOUR CODE HERE ###"
      ],
      "execution_count": null,
      "outputs": []
    },
    {
      "cell_type": "markdown",
      "metadata": {
        "id": "EQ6KBnbpbcuE"
      },
      "source": [
        "## Part 2 - Linear Regression Using Direct Solution [1 marks]"
      ]
    },
    {
      "cell_type": "markdown",
      "metadata": {
        "id": "qh9g1ead3NG-"
      },
      "source": [
        "Implement the direct solution of the linear regression problem on the training set. **[0.5]**\n",
        "\n",
        "**Note:** You should use **``scipy.linalg.inv``** to perform the matrix inversion, as ``numpy.linalg.inv`` may cause numerical issues.\n",
        "\n",
        "Report the root-mean-square error (RMSE) for both the training and validation sets. **[0.5]**\n",
        "\n",
        "You may use `mean_squared_error` from Sklearn for computing the RMSE."
      ]
    },
    {
      "cell_type": "code",
      "metadata": {
        "id": "FzLJgLvy5Re4"
      },
      "source": [
        "### YOUR CODE HERE ###"
      ],
      "execution_count": null,
      "outputs": []
    },
    {
      "cell_type": "markdown",
      "metadata": {
        "id": "tceGCk1V3NG_"
      },
      "source": [
        "## Part 3 - Full Batch Gradient Descent [2 marks]"
      ]
    },
    {
      "cell_type": "markdown",
      "metadata": {
        "id": "v9DMAs3I3NHB"
      },
      "source": [
        "We will now implement a \"full batch\" gradient descent algorithm and record the training time for our model. Recall that the full batch gradient descent is,\n",
        " $$w_t = w_{t-1} - \\alpha~g_t$$ where $\\alpha$ is the learning rate and $g_t$ is your gradient, computed on the entire data. \n",
        "\n",
        "Here are the steps for this part:\n",
        "\n",
        "* Implement gradient descent for linear regression using a fixed learning rate of $\\alpha= 0.01$, and iterate until your model's **validation** RMSE converges. \n",
        "\n",
        "  We consider the gradient descent as having converged when RMSE on the validation set using gradient descent satisfies:\n",
        "\n",
        "  $$ RMSE_\\text{GD} \\leq 1.001 \\times RMSE_\\text{Direct Solution}$$\n",
        "\n",
        "  where $RMSE_\\text{Direct Solution}$ is the RMSE on the validation set using the direct solution that you have calculated in the previous part. \n",
        "\n",
        "  We refer to the quantity $RMSE_\\text{Direct Solution}\\times 1.001$ as the convergence threshold (CT).\n",
        "\n",
        "*  Record the training time (from the first iteration until convergence) using the `time.time()` function. Be sure to compute the gradients yourself! Take a look at the code provided in the tutorial. **[0.5]**\n",
        "\n",
        "* Plot the training RMSE and the validation RMSE vs. epoch on the same figure.  **[0.5]**\n",
        "\n",
        "* Comment on overfitting/underfitting by observing the training and validation RMSE **[1]**\n",
        "\n",
        "**Hint**: Initialize your weights with small random numbers (<$0.001$)"
      ]
    },
    {
      "cell_type": "code",
      "metadata": {
        "id": "G3KOOJ8m5SAs"
      },
      "source": [
        "import time\n",
        "start_time = time.time() ## Records current time\n",
        "\n",
        "## GD Script -- Sample code in tutorial! ##\n",
        "\n",
        "print(\"--- Total Training Time: %s (s) ---\" % (time.time() - start_time))"
      ],
      "execution_count": null,
      "outputs": []
    },
    {
      "cell_type": "markdown",
      "metadata": {
        "id": "K3xwmhsr3NHS"
      },
      "source": [
        "## Part 4 - Mini-batch and Stochastic Gradient Descent [4 marks]"
      ]
    },
    {
      "cell_type": "markdown",
      "metadata": {
        "id": "rbItQ_C5Af_-"
      },
      "source": [
        "Write a function that performs mini-batch gradient descent until the convergence threshold (CT) is reached. **[1]**\n",
        "\n",
        "The inputs of that function are: \n",
        "  * Input data (training/validation), Batch size, Learning Rate, Convergence Threshold (CT)\n",
        "\n",
        "Your function will return the following arrays: \n",
        " * The final weights after training.\n",
        " * The training RMSE at each epoch.\n",
        " * The validation RMSE at each epoch.\n",
        " * An array that has the elapsed time from the start of the training process to the end of each epoch (e.g., if each epoch takes exactly 2 seconds, the array would look like: [2 4 6 8 ...]).\n",
        "\n",
        "Notes: \n",
        "* For certain batch sizes, GD might not converge to a solution. For that reason, you need to check the RMSE of the validation/training set at each epoch, and if it's getting larger and larger, you should stop the training for that case (the design is up to you!).\n",
        "* CT will help you to know when your model is converged. \n",
        "* **Important: after each epoch, you need to shuffle the entire training set.** This ensures that new mini-batches are selected for every epoch. Hint: use `np.random.permutation`. \n",
        "\n",
        "Let's now use the function to investigate the effect of batch size on convergence. When the batch size is 1, we call that stochastic gradient descent. When the batch size equals the # of training data, it is full-batch (i.e., all data points are used at every iteration). Anywhere in between is mini-batch (we use some of the data).\n",
        "  * Sweep different values for the mini-batch size (at least 5 values that **converge**), each time using a learning rate of $\\alpha= 0.01$. **Hint: Try batch sizes that are powers of two (e.g., 2,4,8,16,32,64,128...).** These batch sizes fit better on the hardware and may achieve higher performance.  **[0.5]**\n",
        "\n",
        "Provide the following $3$ plots:\n",
        "  1.  Plot training and validation RMSE vs. **epoch** for all the **converging** batch sizes (some batch sizes might not converge) in a figure. The X-axis is Epoch # and the Y-axis is RMSE. **[0.5]**\n",
        "  2. Plot training and validation RMSE vs. **time** for all the **converging** batch sizes in a figure. The X-axis is Time, and the Y-axis is RMSE. **[0.5]**\n",
        "  3. Plot Total training time (y-axis) vs. Batch size (x-axis). **[0.5]**\n",
        "\n",
        "Describe your findings, including the main takeaways from each of your plots. **[1]**"
      ]
    },
    {
      "cell_type": "code",
      "metadata": {
        "id": "jGQ4_OPkleDq"
      },
      "source": [
        "### YOUR CODE HERE ###"
      ],
      "execution_count": null,
      "outputs": []
    },
    {
      "cell_type": "markdown",
      "metadata": {
        "id": "wFjuxbtkCC35"
      },
      "source": [
        "## Part 5 - Gradient Descent Learning Rate [2 marks]\n",
        "Use the function that you designed in Part 4 to investigate the effect of learning rate on convergence.\n",
        "\n",
        "1. Pick 3 batchsize that are not converging with a learning rate of $\\alpha= 0.01$ (last part) and try to find a learning rate that results in convergence for each batchsize. Report your findings in a table. Mention batch size, learning rate, and training and validation RMSE. **[0.5]**\n",
        "\n",
        "2. Select the best batchsize based on Part 4's fastest convergence time and sweep the learning rate (at least 10 values, all should converge) while applying Mini-batch GD. \n",
        "  \n",
        "  * Plot the training and validation RMSE vs. **epoch** (x-axis) for all the learning rates that you tried in a figure. **[0.5]**\n",
        "  * Plot the training and validation RMSE vs. **time** (x-axis) for all the learning rates that you tried in a figure. **[0.5]**\n",
        "  * Describe your findings, including the main takeaways from each of your plots. **[0.5]**"
      ]
    },
    {
      "cell_type": "code",
      "metadata": {
        "id": "J6y-mK8r5TD3"
      },
      "source": [
        "### YOUR CODE HERE ###"
      ],
      "execution_count": null,
      "outputs": []
    },
    {
      "cell_type": "markdown",
      "metadata": {
        "id": "JQlyGwUsfIYE"
      },
      "source": [
        "## Part 6 - Finalizing a model [1 marks]\n",
        "Based on your findings from the previous parts, pick a model (or combination of model settings) that you think would work best for our dataset and evaluate it on the test set. \n",
        "\n",
        "Briefly describe your model selections/settings. **[0.5]** \n",
        "\n",
        "Summarize the performance of your model for the task of managing ailerons of an aircraft. **[0.5]** "
      ]
    },
    {
      "cell_type": "markdown",
      "source": [],
      "metadata": {
        "id": "yhzihM1z2556"
      }
    },
    {
      "cell_type": "code",
      "metadata": {
        "id": "9f-s_HRffwlR"
      },
      "source": [
        "### YOUR CODE HERE ###"
      ],
      "execution_count": null,
      "outputs": []
    },
    {
      "cell_type": "markdown",
      "source": [
        "## Part 7 - Getting started with GitHub  [3 marks]\n",
        "\n",
        "This final part of the project assignment is to be completed independently from Parts 1 - 6. In this part you will be completing some additional coding tasks using a different dataset and submitting your results on Github. To access this part of the assignment and upload your answers, you will need to use Github. Please complete the following step-by-step instructions:\n",
        "\n",
        " 0. Create a Github account and install git for Windows or Mac: \n",
        "  * https://git-scm.com/download/win\n",
        "  * https://git-scm.com/download/mac\n",
        "\n",
        " 1. Open this link: https://classroom.github.com/a/ZC8Petsq to create your assignment repository in GitHub. You should get a link similar to:\n",
        "```\n",
        "https://github.com/APS-1070-2021/f22-project4-git-*********\n",
        "```\n",
        "This your private repository to get this part questions and upload your answers. **Copy this link to the text box below to be graded for this part.**\n",
        "\n",
        " \n",
        " 2. Open `Git Bash`, the app you downloaded in step `0`, and set your Email and username by:\n",
        "```\n",
        "git config --global user.email “<your-GitHub-email>”\n",
        "git config --global user.name “<your-GitHub-username>”\n",
        "```\n",
        "\n",
        " 3. Create a folder for the course on your computer and `cd` to that. `cd` means `Change Directory`. For example, on a Windows machine, where I have a folder on \"C:\\aps1070\":\n",
        " ```\n",
        "cd c:aps1070\n",
        "```\n",
        " 4. Get your assignment by the link you got in step 1:\n",
        "```\n",
        "git clone https://github.com/APS-1070-2021/f22-project4-git-*********\n",
        "```\n",
        "If this is the first time you are using Git Bash, it will ask you to sign in on GitHub via your browser. \n",
        "\n",
        " 5. A new folder should be created in your directory similar to:\n",
        "```\n",
        "C:\\aps1070\\f22-project4-git-********\n",
        "```\n",
        "This folder has an `ipynb` notebook which you need to manually upload to colab and answer its questions. \n",
        "\n",
        " 6. After you finished working on this notebook, download the notebook from colab and move it to the directory in step 5.\n",
        "\n",
        " 7. Replace the old notebook with the new one that has your answers. Make sure your completed notebook has the same name as the original notebook you downloaded. \n",
        "\n",
        " 8. To submit your work, follow: \n",
        "```\n",
        "cd <your assignment folder>\n",
        "git add F22_Project_4_git.ipynb\n",
        "git commit -m “Final Submission”\n",
        "git push \n",
        "```\n",
        "If you had any problem with pushing your work on GitHub you can try one of following commands:\n",
        "```\n",
        "git push --force\n",
        "or \n",
        "git push origin HEAD:main\n",
        "```\n",
        "\n",
        " 9. Make sure your submission is ready for grading. Open the private repository link in your browser and make sure you can see your final submission with your latest changes there. **Only you and the teaching team can open that link.** "
      ],
      "metadata": {
        "id": "p-kR6ppg24X6"
      }
    },
    {
      "cell_type": "markdown",
      "source": [
        "**Private Repository Link : <font color='red'>** **--FILL HERE---**</font>"
      ],
      "metadata": {
        "id": "XY-NBi8i37mY"
      }
    }
  ]
}