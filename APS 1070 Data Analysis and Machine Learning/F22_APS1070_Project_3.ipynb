{
  "nbformat": 4,
  "nbformat_minor": 0,
  "metadata": {
    "kernelspec": {
      "name": "python3",
      "display_name": "Python 3.7.6 64-bit ('base': conda)"
    },
    "language_info": {
      "codemirror_mode": {
        "name": "ipython",
        "version": 3
      },
      "file_extension": ".py",
      "mimetype": "text/x-python",
      "name": "python",
      "nbconvert_exporter": "python",
      "pygments_lexer": "ipython3",
      "version": "3.7.6"
    },
    "colab": {
      "provenance": [],
      "collapsed_sections": []
    },
    "interpreter": {
      "hash": "427dbe4e51b5387b95f6713934d34ee99dc52ee933d986e8e9d62b7e183bbc53"
    }
  },
  "cells": [
    {
      "cell_type": "markdown",
      "metadata": {
        "id": "OTpnyUEJrAjE"
      },
      "source": [
        "# **Project 3**, APS1070 Fall 2022\n",
        "#### **PCA [14 marks]**\n",
        "**Deadline: Nov 17, 21:00**\n",
        "\n",
        "**Academic Integrity**\n",
        "\n",
        "This project is individual - it is to be completed on your own. If you have questions, please post your query in the APS1070 Piazza Q&A forums (the answer might be useful to others!).\n",
        "\n",
        "Do not share your code with others, or post your work online. Do not submit code that you have not written yourself. Students suspected of plagiarism on a project, midterm or exam will be referred to the department for formal discipline for breaches of the Student Code of Conduct."
      ]
    },
    {
      "cell_type": "markdown",
      "metadata": {
        "id": "fUdJ6xw3rJIG"
      },
      "source": [
        "Please fill out the following:\n",
        "\n",
        "\n",
        "*   **Name**:\n",
        "*   **Student number**:\n",
        "\n"
      ]
    },
    {
      "cell_type": "markdown",
      "source": [
        "### How to submit **(HTML + IPYNB)**\n",
        "\n",
        "1. Download your notebook: `File -> Download .ipynb`\n",
        "\n",
        "2. Click on the Files icon on the far left menu of Colab\n",
        "\n",
        "3. Select & upload your `.ipynb` file you just downloaded, and then obtain its path (right click) (you might need to hit the Refresh button before your file shows up)\n",
        "\n",
        "\n",
        "4. execute the following in a Colab cell:\n",
        "```\n",
        "%%shell\n",
        "jupyter nbconvert --to html /PATH/TO/YOUR/NOTEBOOKFILE.ipynb\n",
        "```\n",
        "\n",
        "5. An HTML version of your notebook will appear in the files, so you can download it.\n",
        "\n",
        "6. Submit **both** <font color='red'>`HTML` and `IPYNB`</font>  files on Quercus for grading.\n",
        "\n",
        "\n",
        "\n",
        "Ref: https://stackoverflow.com/a/64487858 \n",
        "\n"
      ],
      "metadata": {
        "id": "8tJHxJaj4oSI"
      }
    },
    {
      "cell_type": "markdown",
      "metadata": {
        "id": "dwVsZkjMwA5N"
      },
      "source": [
        "In this project we work on a Covid-19 dataset that reports the number of confirmed cases per day and Fashion MNIST."
      ]
    },
    {
      "cell_type": "markdown",
      "metadata": {
        "id": "-BHS-H5SwA5N"
      },
      "source": [
        "# Part 1: Getting started [2 Marks]"
      ]
    },
    {
      "cell_type": "code",
      "metadata": {
        "id": "ILjIVdnsXH2u"
      },
      "source": [
        "import pandas as pd\n",
        "cases_raw = pd.read_csv(\n",
        "    filepath_or_buffer='https://raw.githubusercontent.com/aps1070-2019/datasets/master/APS_COVID_Jan22.csv',\n",
        "    index_col=0,\n",
        "    thousands=','\n",
        ")"
      ],
      "execution_count": null,
      "outputs": []
    },
    {
      "cell_type": "markdown",
      "metadata": {
        "id": "eVOW-vqbwA5N"
      },
      "source": [
        "1. Write a function to do the following: **[0.5]**\n",
        "    * Takes the dataframe, and your country list as inputs (US, China, Canada, ...)\n",
        "    * Plots time-series for the input list (it is best to plot each country in a separate graph (subplot), so you can easily compare them.)\n",
        "    \n",
        "2. Apply `StandardScalar` to the data. Each day should have a `mean` of zero and a `StD` of 1. **[0.5]**\n",
        "3. Run the function in `step 1` on the standardized dataset for the `US`, `China`, and `Canada`.   **[0.5]**\n",
        "4. Discuss the trends in the standardized time-series for the `US`, `Canada`, and `China`. What does it mean if the curve goes up or down (are the number of covid cases negative?) What does the sign of values indicate? **[0.5]**"
      ]
    },
    {
      "cell_type": "code",
      "metadata": {
        "id": "y9IN_qKNERbj"
      },
      "source": [
        "### YOUR CODE HERE ###"
      ],
      "execution_count": null,
      "outputs": []
    },
    {
      "cell_type": "markdown",
      "metadata": {
        "id": "i4xcf_DpwA5N"
      },
      "source": [
        "# Part 2: Applying PCA [3 Marks]"
      ]
    },
    {
      "cell_type": "markdown",
      "metadata": {
        "id": "Ch7Ly5XQwA5N"
      },
      "source": [
        "1. Compute the covariance matrix of the dataframe. *Hint: The dimensions of your covariance matrix should be (733, 733).* **[0.5]**\n",
        "2. Write a function `get_sorted_eigen(df_cov)` that gets the covariance matrix of dataframe `df` (from step 1), and returns sorted eigenvalues and eigenvectors using `np.linalg.eigh`. **[0.5]**\n",
        "3. Show the effectiveness of your principal components in covering the variance of the dataset with a `scree plot`(Bars for each componenet and a line to show cumulative --similar to tutoriual. Limit x-axis if needed to better see the plot). **[0.5]**\n",
        "4. How many PCs do you need to cover 98% of the dataset's variance? **[0.5]**\n",
        "5. Plot the first 16 principal components (Eigenvectors) as a time series (16 subplots, on the x-axis you have dates and on the y-axis you have the value of the PC element) . **[0.5]**\n",
        "6. Compare the first few PCs with the rest of them. Do you see any difference in their trend? **[0.5]**"
      ]
    },
    {
      "cell_type": "code",
      "metadata": {
        "id": "m2gQgts5ESF6"
      },
      "source": [
        "### YOUR CODE HERE ###"
      ],
      "execution_count": null,
      "outputs": []
    },
    {
      "cell_type": "markdown",
      "metadata": {
        "id": "BmndIgPVwA5O"
      },
      "source": [
        "# Part 3: Data reconstruction [5 Marks]"
      ]
    },
    {
      "cell_type": "markdown",
      "metadata": {
        "id": "hvtD5MnGwA5O"
      },
      "source": [
        "Create a function that:\n",
        "\n",
        "*   Accepts a country and the original dataset as inputs.\n",
        "*   Calls useful functions that you designed in previous parts to compute eigen vectors and eigen values. \n",
        "*   Plots 4 figures:\n",
        "  1.   The original time-series for the specified country. **[1]**\n",
        "  2.   The incremental reconstruction of the **original** (not standardized) time-series for the specified country in a single plot. **[1]**\n",
        "       * You should at least show 5 curves in a figure for incremental reconstruction. For example, you can pick the following (or any other combination that you think is reasonable): \n",
        "          * Reconstruction with only PC1\n",
        "          * Reconstruction with both PC1 and PC2\n",
        "          * Reconstruction with PC1 to PC4 (First 4 PCs)\n",
        "          * Reconstruction with PC1 to PC8 (First 8 PCs)\n",
        "          * Reconstruction with PC1 to PC16 (First 16 PCs)\n",
        "\n",
        "      * Hint: you need to compute the reconstruction for the standardized time-series first, and then scale it back to the original (non-standardized form) using the StandardScaler `inverse_transform` [help...](https://scikit-learn.org/stable/modules/generated/sklearn.preprocessing.StandardScaler.html#sklearn.preprocessing.StandardScaler.inverse_transform)\n",
        "  3.   The residual error for your best reconstruction with respect to the original time-series. **[1]**\n",
        "      * Hint: You are plotting the error that we have for reconstructing each day `(df - df_reconstructed)`. On the x-axis, you have dates, and on the y-axis, the residual error. \n",
        "  4.   The RMSE of the reconstruction as a function of the number of included components (x-axis is the number of components and y-axis is the RMSE). Sweep x-axis from 1 to 100 (this part is independent from part 3.2.) **[1]**\n",
        "\n",
        "Test your function using the `US`, `Canada`, and `China` as inputs. **[1]**\n"
      ]
    },
    {
      "cell_type": "code",
      "metadata": {
        "id": "qKXBlzSOESoE"
      },
      "source": [
        "def plot_country_figures(original_df, country_name):\n",
        "### YOUR CODE HERE ###"
      ],
      "execution_count": null,
      "outputs": []
    },
    {
      "cell_type": "markdown",
      "source": [
        "# Part 4: Fashion-MNIST dataset [4 Marks]\n",
        "Fashion-MNIST is a dataset for clothes. \n",
        "Each image in Fashion-MNIST has 28x28 pixels which can be represented in an array with 784 elements. You can take a better look at this dataset in this [link](https://www.openml.org/d/40996) \n",
        "\n",
        "In this part, we are going to use PCA to compress these images. The $x$ matrix below has 1000 images.\n",
        "* Create a new dataset by selecting images from *only* three categories (three distinct labels). \n",
        "    * To compress and reconstruct images better with PCA, it is better to choose items that are similar in shape. why? **[0.5]**\n",
        "* Compute Eigenvectors and Eigenvalues. **[0.5]**\n",
        "* Plot the first 10 eigenvectors (as images similar to eigenfaces). What trends do you observe? **[0.5]**\n",
        "* Create a function that requires an argument $n$ and plots a random image from the dataset, as well as a reconstruction with the first $n$ th principal components. **[1]**\n",
        "* Run your function a few times, and determine how many components are required so that we (humans!) can identify the items. **[0.5]**\n",
        "* Assume you want to share this dataset with someone else. Instead of directly giving them the whole dataset, you can share the eigenvectors (some of them) and projections with them, and thay can do a dot product to get the reconstructions.  Based on the number of components that you found in the last step, what would be the compression ratio for a dataset with 1000 images? **[1]**\n",
        "  * Hint: compare the dataset size with a case where we only use some principal components and projections."
      ],
      "metadata": {
        "id": "E7G71cUXi9Xr"
      }
    },
    {
      "cell_type": "code",
      "source": [
        "from sklearn.datasets import fetch_openml\n",
        "mnist = fetch_openml(\"Fashion-MNIST\")\n",
        "x = mnist.data[0:1000]\n",
        "y = mnist.target[0:1000]\n",
        "target_encoding = {0: \"T-shirt/top\",\n",
        "1: \"Trouser\",\n",
        "2: \"Pullover\",\n",
        "3: \"Dress\",\n",
        "4: \"Coat\",\n",
        "5: \"Sandal\",\n",
        "6: \"Shirt\",\n",
        "7: \"Sneaker\",\n",
        "8: \"Bag\",\n",
        "9: \"Ankle boot\"}"
      ],
      "metadata": {
        "id": "x0aXxMp2jBnO"
      },
      "execution_count": null,
      "outputs": []
    },
    {
      "cell_type": "code",
      "source": [
        "x.shape"
      ],
      "metadata": {
        "colab": {
          "base_uri": "https://localhost:8080/"
        },
        "id": "0aGQs6UEjDMd",
        "outputId": "a4155f8c-abf4-4f0a-e1d5-5bb9241be78e"
      },
      "execution_count": null,
      "outputs": [
        {
          "output_type": "execute_result",
          "data": {
            "text/plain": [
              "(1000, 784)"
            ]
          },
          "metadata": {},
          "execution_count": 21
        }
      ]
    },
    {
      "cell_type": "code",
      "source": [
        "import matplotlib.pyplot as plt \n",
        "plt.gray() \n",
        "ind = 15\n",
        "plt.imshow(x.loc[ind].values.reshape(28,28)) \n",
        "print (\"Label is:\", target_encoding[int(y[ind])])\n",
        "plt.show() "
      ],
      "metadata": {
        "colab": {
          "base_uri": "https://localhost:8080/",
          "height": 282
        },
        "id": "6IXqPnjxjEhc",
        "outputId": "dd6a545c-de02-4312-86eb-441ff6f0cdb1"
      },
      "execution_count": null,
      "outputs": [
        {
          "output_type": "stream",
          "name": "stdout",
          "text": [
            "Label is: Ankle boot\n"
          ]
        },
        {
          "output_type": "display_data",
          "data": {
            "image/png": "[encoded data removed]",
            "text/plain": [
              "<Figure size 432x288 with 1 Axes>"
            ]
          },
          "metadata": {
            "needs_background": "light"
          }
        }
      ]
    },
    {
      "cell_type": "code",
      "source": [
        "### YOUR CODE HERE ###"
      ],
      "metadata": {
        "id": "llAMirJmjGTK"
      },
      "execution_count": null,
      "outputs": []
    },
    {
      "cell_type": "markdown",
      "metadata": {
        "id": "7rKZXBodwA5P"
      },
      "source": [
        "# References"
      ]
    },
    {
      "cell_type": "markdown",
      "metadata": {
        "id": "PA-T9S4RwA5P"
      },
      "source": [
        "Understanding PCA and SVD:\n",
        "\n",
        "1. https://towardsdatascience.com/pca-and-svd-explained-with-numpy-5d13b0d2a4d8\n",
        "\n",
        "2. https://stats.stackexchange.com/questions/134282/relationship-between-svd-and-pca-how-to-use-svd-to-perform-pca\n",
        "\n",
        "3. https://stats.stackexchange.com/questions/2691/making-sense-of-principal-component-analysis-eigenvectors-eigenvalues\n",
        "\n",
        "4. https://hadrienj.github.io/posts/Deep-Learning-Book-Series-2.8-Singular-Value-Decomposition/\n",
        "\n",
        "PCA:\n",
        "\n",
        "1. Snippets from: https://plot.ly/ipython-notebooks/principal-component-analysis/\n",
        "\n",
        "2. https://www.value-at-risk.net/principal-component-analysis/\n",
        "\n",
        "Covid Data:\n",
        "\n",
        "1. https://www.worldometers.info/coronavirus/\n",
        "\n",
        "2. https://datahub.io/core/covid-19#resource-time-series-19-covid-combined\n",
        "\n"
      ]
    }
  ]
}